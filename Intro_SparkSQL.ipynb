{
 "cells": [
  {
   "cell_type": "markdown",
   "id": "demographic-listing",
   "metadata": {},
   "source": [
    "# Introduction to SparkSQL"
   ]
  },
  {
   "cell_type": "markdown",
   "id": "competent-marketplace",
   "metadata": {},
   "source": [
    "## Spark Initiallization Script"
   ]
  },
  {
   "cell_type": "code",
   "execution_count": 2,
   "id": "informative-anniversary",
   "metadata": {},
   "outputs": [],
   "source": [
    "#!/usr/bin/env python3\n",
    "\n",
    "import sys\n",
    "import os \n",
    "\n",
    "# getting the directory where Spark was installed\n",
    "if 'SPARK_HOME' not in os.environ:\n",
    "    os.environ['SPARK_HOME'] = '/opt/spark'\n",
    "\n",
    "# python variable to store the root path for later reference\n",
    "SPARK_HOME = os.environ['SPARK_HOME']\n",
    "\n",
    "# adding pyspark and py4j packages paths to python path env variable\n",
    "sys.path.insert(0, os.path.join(SPARK_HOME, 'python'))\n",
    "sys.path.insert(0, os.path.join(SPARK_HOME, 'python', 'lib'))\n",
    "sys.path.insert(0, os.path.join(SPARK_HOME, 'python', 'lib', 'py4j-0.10.9-src.zip'))\n",
    "sys.path.insert(0, os.path.join(SPARK_HOME, 'python', 'lib', 'pyspark.zip'))\n",
    "\n",
    "from pyspark import SparkContext\n",
    "from pyspark import SparkConf\n",
    "\n",
    "# configure spark settings\n",
    "conf = SparkConf()\n",
    "conf.set(\"spark.executer.memory\",\"1g\")\n",
    "conf.set(\"spark.cores.max\",'2')\n",
    "\n",
    "# give name to your spark application\n",
    "conf.setAppName(\"IntroSparkSql\")\n",
    "\n",
    "# create a spark context object \n",
    "# note: Execute only once otherwise results in Context Errors\n",
    "sc = SparkContext('local',conf=conf)"
   ]
  },
  {
   "cell_type": "markdown",
   "id": "conditional-treat",
   "metadata": {},
   "source": [
    "### Once the above script is executed you can view the Spark instance info here http://localhost:4040"
   ]
  },
  {
   "cell_type": "markdown",
   "id": "missing-philip",
   "metadata": {},
   "source": [
    "### Creating SQL context from Spark context"
   ]
  },
  {
   "cell_type": "code",
   "execution_count": 3,
   "id": "fossil-license",
   "metadata": {},
   "outputs": [],
   "source": [
    "from pyspark.sql import SQLContext\n",
    "sqlContext = SQLContext(sc)"
   ]
  },
  {
   "cell_type": "markdown",
   "id": "flexible-string",
   "metadata": {},
   "source": [
    "### Creating Dataframe from json file"
   ]
  },
  {
   "cell_type": "code",
   "execution_count": 4,
   "id": "expected-cambodia",
   "metadata": {},
   "outputs": [
    {
     "name": "stdout",
     "output_type": "stream",
     "text": [
      "+---+------+------+-----------------+------+\n",
      "|age|deptid|gender|             name|salary|\n",
      "+---+------+------+-----------------+------+\n",
      "| 32|   100|  male|Benjamin Garrison|  3000|\n",
      "| 40|   200|  male|    Holland Drake|  4500|\n",
      "| 26|   100|  male|  Burks Velasquez|  2700|\n",
      "| 51|   100|female|    June Rutledge|  4300|\n",
      "| 44|   200|  male|    Nielsen Knapp|  6500|\n",
      "+---+------+------+-----------------+------+\n",
      "\n"
     ]
    }
   ],
   "source": [
    "empDf = sqlContext.read.json(\"data/customerData.json\")\n",
    "empDf.show()"
   ]
  },
  {
   "cell_type": "markdown",
   "id": "brown-vulnerability",
   "metadata": {},
   "source": [
    "schema of dataframe"
   ]
  },
  {
   "cell_type": "code",
   "execution_count": 5,
   "id": "demanding-afternoon",
   "metadata": {},
   "outputs": [
    {
     "name": "stdout",
     "output_type": "stream",
     "text": [
      "root\n",
      " |-- age: string (nullable = true)\n",
      " |-- deptid: string (nullable = true)\n",
      " |-- gender: string (nullable = true)\n",
      " |-- name: string (nullable = true)\n",
      " |-- salary: string (nullable = true)\n",
      "\n"
     ]
    }
   ],
   "source": [
    "empDf.printSchema()"
   ]
  },
  {
   "cell_type": "markdown",
   "id": "dressed-negotiation",
   "metadata": {},
   "source": [
    "### Performing Queries on the dataframe"
   ]
  },
  {
   "cell_type": "code",
   "execution_count": 6,
   "id": "worth-structure",
   "metadata": {},
   "outputs": [
    {
     "name": "stdout",
     "output_type": "stream",
     "text": [
      "+-----------------+\n",
      "|             name|\n",
      "+-----------------+\n",
      "|Benjamin Garrison|\n",
      "|    Holland Drake|\n",
      "|  Burks Velasquez|\n",
      "|    June Rutledge|\n",
      "|    Nielsen Knapp|\n",
      "+-----------------+\n",
      "\n"
     ]
    }
   ],
   "source": [
    " empDf.select(\"name\").show()"
   ]
  },
  {
   "cell_type": "code",
   "execution_count": 7,
   "id": "angry-preservation",
   "metadata": {},
   "outputs": [
    {
     "name": "stdout",
     "output_type": "stream",
     "text": [
      "+------+------+\n",
      "|salary|deptid|\n",
      "+------+------+\n",
      "|  3000|   100|\n",
      "|  4500|   200|\n",
      "|  2700|   100|\n",
      "|  4300|   100|\n",
      "|  6500|   200|\n",
      "+------+------+\n",
      "\n"
     ]
    }
   ],
   "source": [
    "empDf.select(empDf.salary,empDf.deptid).show()"
   ]
  },
  {
   "cell_type": "code",
   "execution_count": 8,
   "id": "simplified-worse",
   "metadata": {},
   "outputs": [
    {
     "name": "stdout",
     "output_type": "stream",
     "text": [
      "+---+------+------+-------------+------+\n",
      "|age|deptid|gender|         name|salary|\n",
      "+---+------+------+-------------+------+\n",
      "| 40|   200|  male|Holland Drake|  4500|\n",
      "+---+------+------+-------------+------+\n",
      "\n"
     ]
    }
   ],
   "source": [
    "empDf.filter(empDf[\"age\"]==40).show()"
   ]
  },
  {
   "cell_type": "code",
   "execution_count": 9,
   "id": "working-saver",
   "metadata": {},
   "outputs": [
    {
     "name": "stdout",
     "output_type": "stream",
     "text": [
      "+------+-----+\n",
      "|gender|count|\n",
      "+------+-----+\n",
      "|female|    1|\n",
      "|  male|    4|\n",
      "+------+-----+\n",
      "\n"
     ]
    }
   ],
   "source": [
    "empDf.groupBy(\"gender\").count().show()"
   ]
  },
  {
   "cell_type": "code",
   "execution_count": 10,
   "id": "combined-place",
   "metadata": {},
   "outputs": [
    {
     "name": "stdout",
     "output_type": "stream",
     "text": [
      "+------+------------------+--------+\n",
      "|deptid|       avg(salary)|max(age)|\n",
      "+------+------------------+--------+\n",
      "|   200|            5500.0|      44|\n",
      "|   100|3333.3333333333335|      51|\n",
      "+------+------------------+--------+\n",
      "\n"
     ]
    }
   ],
   "source": [
    "empDf.groupBy(\"deptid\").agg({\"salary\":\"avg\",\"age\":\"max\"}).show()"
   ]
  },
  {
   "cell_type": "markdown",
   "id": "technological-drill",
   "metadata": {},
   "source": [
    "### Creating dataframe from list"
   ]
  },
  {
   "cell_type": "code",
   "execution_count": 11,
   "id": "coastal-channel",
   "metadata": {},
   "outputs": [
    {
     "name": "stdout",
     "output_type": "stream",
     "text": [
      "+---+-----------+\n",
      "| id|       name|\n",
      "+---+-----------+\n",
      "|100|      sales|\n",
      "|200|engineering|\n",
      "+---+-----------+\n",
      "\n"
     ]
    }
   ],
   "source": [
    "deptList = [{\"name\":\"sales\",\"id\":\"100\"},{\"name\":\"engineering\",\"id\":\"200\"}]\n",
    "deptDf = sqlContext.createDataFrame(deptList)\n",
    "deptDf.show()"
   ]
  },
  {
   "cell_type": "markdown",
   "id": "medical-equipment",
   "metadata": {},
   "source": [
    "### Using Join on dataframes"
   ]
  },
  {
   "cell_type": "code",
   "execution_count": 12,
   "id": "legislative-programming",
   "metadata": {},
   "outputs": [
    {
     "name": "stdout",
     "output_type": "stream",
     "text": [
      "+---+------+------+-----------------+------+---+-----------+\n",
      "|age|deptid|gender|             name|salary| id|       name|\n",
      "+---+------+------+-----------------+------+---+-----------+\n",
      "| 51|   100|female|    June Rutledge|  4300|100|      sales|\n",
      "| 26|   100|  male|  Burks Velasquez|  2700|100|      sales|\n",
      "| 32|   100|  male|Benjamin Garrison|  3000|100|      sales|\n",
      "| 44|   200|  male|    Nielsen Knapp|  6500|200|engineering|\n",
      "| 40|   200|  male|    Holland Drake|  4500|200|engineering|\n",
      "+---+------+------+-----------------+------+---+-----------+\n",
      "\n"
     ]
    }
   ],
   "source": [
    "empDf.join(deptDf,empDf.deptid == deptDf.id).show()"
   ]
  },
  {
   "cell_type": "markdown",
   "id": "electronic-forest",
   "metadata": {},
   "source": [
    "### Cascading Operations"
   ]
  },
  {
   "cell_type": "code",
   "execution_count": 13,
   "id": "configured-polyester",
   "metadata": {},
   "outputs": [
    {
     "name": "stdout",
     "output_type": "stream",
     "text": [
      "+------+-----------+--------+\n",
      "|deptid|avg(salary)|max(age)|\n",
      "+------+-----------+--------+\n",
      "|   200|     5500.0|      44|\n",
      "|   100|     3650.0|      51|\n",
      "+------+-----------+--------+\n",
      "\n"
     ]
    }
   ],
   "source": [
    "empDf.filter(empDf.age > 30) \\\n",
    "    .join(deptDf,deptDf.id == empDf.deptid) \\\n",
    "    .groupBy(empDf.deptid).agg({\"salary\":\"avg\",\"age\":\"max\"}).show()"
   ]
  },
  {
   "cell_type": "markdown",
   "id": "bottom-grade",
   "metadata": {},
   "source": [
    "### Registering dataframes as tables and run SQL queries"
   ]
  },
  {
   "cell_type": "code",
   "execution_count": 14,
   "id": "irish-premiere",
   "metadata": {},
   "outputs": [
    {
     "name": "stdout",
     "output_type": "stream",
     "text": [
      "+---+------+------+-------------+------+\n",
      "|age|deptid|gender|         name|salary|\n",
      "+---+------+------+-------------+------+\n",
      "| 40|   200|  male|Holland Drake|  4500|\n",
      "| 51|   100|female|June Rutledge|  4300|\n",
      "| 44|   200|  male|Nielsen Knapp|  6500|\n",
      "+---+------+------+-------------+------+\n",
      "\n"
     ]
    }
   ],
   "source": [
    "empDf.registerTempTable(\"employees\")\n",
    "sqlContext.sql(\"SELECT * FROM `employees` WHERE `salary` > 4000;\").show()"
   ]
  },
  {
   "cell_type": "code",
   "execution_count": 15,
   "id": "major-behalf",
   "metadata": {},
   "outputs": [
    {
     "name": "stdout",
     "output_type": "stream",
     "text": [
      "+---+------+------+-------------+------+\n",
      "|age|deptid|gender|         name|salary|\n",
      "+---+------+------+-------------+------+\n",
      "| 40|   200|  male|Holland Drake|  4500|\n",
      "+---+------+------+-------------+------+\n",
      "\n"
     ]
    }
   ],
   "source": [
    "sqlContext.sql(\"SELECT * FROM `employees` WHERE name LIKE '%Drake%' LIMIT 1;\").show()"
   ]
  },
  {
   "cell_type": "markdown",
   "id": "induced-services",
   "metadata": {},
   "source": [
    "### Converting spark dataframe to pandas dataframe"
   ]
  },
  {
   "cell_type": "code",
   "execution_count": 16,
   "id": "royal-position",
   "metadata": {},
   "outputs": [
    {
     "data": {
      "text/html": [
       "<div>\n",
       "<style scoped>\n",
       "    .dataframe tbody tr th:only-of-type {\n",
       "        vertical-align: middle;\n",
       "    }\n",
       "\n",
       "    .dataframe tbody tr th {\n",
       "        vertical-align: top;\n",
       "    }\n",
       "\n",
       "    .dataframe thead th {\n",
       "        text-align: right;\n",
       "    }\n",
       "</style>\n",
       "<table border=\"1\" class=\"dataframe\">\n",
       "  <thead>\n",
       "    <tr style=\"text-align: right;\">\n",
       "      <th></th>\n",
       "      <th>age</th>\n",
       "      <th>deptid</th>\n",
       "      <th>gender</th>\n",
       "      <th>name</th>\n",
       "      <th>salary</th>\n",
       "    </tr>\n",
       "  </thead>\n",
       "  <tbody>\n",
       "    <tr>\n",
       "      <th>0</th>\n",
       "      <td>32</td>\n",
       "      <td>100</td>\n",
       "      <td>male</td>\n",
       "      <td>Benjamin Garrison</td>\n",
       "      <td>3000</td>\n",
       "    </tr>\n",
       "    <tr>\n",
       "      <th>1</th>\n",
       "      <td>40</td>\n",
       "      <td>200</td>\n",
       "      <td>male</td>\n",
       "      <td>Holland Drake</td>\n",
       "      <td>4500</td>\n",
       "    </tr>\n",
       "    <tr>\n",
       "      <th>2</th>\n",
       "      <td>26</td>\n",
       "      <td>100</td>\n",
       "      <td>male</td>\n",
       "      <td>Burks Velasquez</td>\n",
       "      <td>2700</td>\n",
       "    </tr>\n",
       "    <tr>\n",
       "      <th>3</th>\n",
       "      <td>51</td>\n",
       "      <td>100</td>\n",
       "      <td>female</td>\n",
       "      <td>June Rutledge</td>\n",
       "      <td>4300</td>\n",
       "    </tr>\n",
       "    <tr>\n",
       "      <th>4</th>\n",
       "      <td>44</td>\n",
       "      <td>200</td>\n",
       "      <td>male</td>\n",
       "      <td>Nielsen Knapp</td>\n",
       "      <td>6500</td>\n",
       "    </tr>\n",
       "  </tbody>\n",
       "</table>\n",
       "</div>"
      ],
      "text/plain": [
       "  age deptid  gender               name salary\n",
       "0  32    100    male  Benjamin Garrison   3000\n",
       "1  40    200    male      Holland Drake   4500\n",
       "2  26    100    male    Burks Velasquez   2700\n",
       "3  51    100  female      June Rutledge   4300\n",
       "4  44    200    male      Nielsen Knapp   6500"
      ]
     },
     "execution_count": 16,
     "metadata": {},
     "output_type": "execute_result"
    }
   ],
   "source": [
    "import pandas as pd\n",
    "empPands = empDf.toPandas()\n",
    "empPands"
   ]
  },
  {
   "cell_type": "code",
   "execution_count": 17,
   "id": "short-dispute",
   "metadata": {},
   "outputs": [
    {
     "name": "stdout",
     "output_type": "stream",
     "text": [
      "3000\n",
      "4500\n",
      "2700\n",
      "4300\n",
      "6500\n"
     ]
    }
   ],
   "source": [
    "for index, row in empPands.iterrows():\n",
    "    print (row['salary'])"
   ]
  },
  {
   "cell_type": "code",
   "execution_count": 19,
   "id": "municipal-bonus",
   "metadata": {},
   "outputs": [
    {
     "name": "stdout",
     "output_type": "stream",
     "text": [
      "+---+--------------+--------------------+------------+-----------------+--------------------+--------------+-------------------+-------------------+\n",
      "| id|          name|               email|home_page_id|email_verified_at|            password|remember_token|         created_at|         updated_at|\n",
      "+---+--------------+--------------------+------------+-----------------+--------------------+--------------+-------------------+-------------------+\n",
      "|  1|Muhammad Ateeb|muhammadateeb225@...|           1|             null|$2y$10$NMw14A2.n4...|          null|2021-01-29 07:19:49|2021-01-29 07:19:49|\n",
      "|  2|         Eteeb|muhammadateeb226@...|           2|             null|$2y$10$l3S4TtsY5d...|          null|2021-03-11 07:24:58|2021-03-11 07:24:58|\n",
      "+---+--------------+--------------------+------------+-----------------+--------------------+--------------+-------------------+-------------------+\n",
      "\n"
     ]
    },
    {
     "data": {
      "text/plain": [
       "pyspark.sql.dataframe.DataFrame"
      ]
     },
     "execution_count": 19,
     "metadata": {},
     "output_type": "execute_result"
    }
   ],
   "source": [
    "\n",
    "dfMySql = sqlContext.read.format(\"jdbc\").options(\n",
    "    url=\"jdbc:mysql://localhost:3306/socialem\",\n",
    "    driver = \"com.mysql.jdbc.Driver\",\n",
    "    dbtable = \"users\",\n",
    "    user=\"root\",\n",
    "    password=\"root\").load()\n",
    "dfMySql.show()"
   ]
  },
  {
   "cell_type": "code",
   "execution_count": 20,
   "id": "thousand-gallery",
   "metadata": {},
   "outputs": [
    {
     "name": "stdout",
     "output_type": "stream",
     "text": [
      "+---+--------------+--------------------+------------+-----------------+--------------------+--------------+-------------------+-------------------+\n",
      "| id|          name|               email|home_page_id|email_verified_at|            password|remember_token|         created_at|         updated_at|\n",
      "+---+--------------+--------------------+------------+-----------------+--------------------+--------------+-------------------+-------------------+\n",
      "|  1|Muhammad Ateeb|muhammadateeb225@...|           1|             null|$2y$10$NMw14A2.n4...|          null|2021-01-29 07:19:49|2021-01-29 07:19:49|\n",
      "+---+--------------+--------------------+------------+-----------------+--------------------+--------------+-------------------+-------------------+\n",
      "\n"
     ]
    }
   ],
   "source": [
    "dfMySql.filter(dfMySql.home_page_id == 1).show()"
   ]
  },
  {
   "cell_type": "markdown",
   "id": "combined-dublin",
   "metadata": {},
   "source": [
    "#### Inorder to connect to the database you need to have the ```com.mysql.jdbc.Driver``` reachable by spark application, you can acomplish this by simply downloading the driver and saving it to the ```$SPARK_HOME/python/lib``` directory and restart the kernel for the changes to take effect"
   ]
  },
  {
   "cell_type": "code",
   "execution_count": 48,
   "id": "unsigned-pickup",
   "metadata": {},
   "outputs": [
    {
     "name": "stdout",
     "output_type": "stream",
     "text": [
      "+---+--------------------+-----+\n",
      "| id|           migration|batch|\n",
      "+---+--------------------+-----+\n",
      "|  1|2014_10_12_000000...|    1|\n",
      "|  2|2014_10_12_100000...|    1|\n",
      "|  3|2019_08_19_000000...|    1|\n",
      "|  4|2021_01_16_183952...|    1|\n",
      "|  5|2021_01_17_062341...|    1|\n",
      "|  6|2021_01_17_062401...|    1|\n",
      "|  7|2021_01_17_062411...|    1|\n",
      "|  8|2021_01_17_062422...|    1|\n",
      "|  9|2021_01_17_062431...|    1|\n",
      "| 10|2021_01_17_062440...|    1|\n",
      "| 11|2021_01_28_172632...|    1|\n",
      "+---+--------------------+-----+\n",
      "\n"
     ]
    }
   ],
   "source": [
    "tables = sqlContext.read.format(\"jdbc\").options(\n",
    "    url=\"jdbc:mysql://localhost:3306/socialem\",\n",
    "    driver = \"com.mysql.jdbc.Driver\",\n",
    "    query = \"SELECT * FROM migrations\",\n",
    "    user=\"root\",\n",
    "    password=\"root\").load()\n",
    "tables.show()"
   ]
  },
  {
   "cell_type": "markdown",
   "id": "careful-england",
   "metadata": {},
   "source": [
    "### Creating Dataframe from RDDs"
   ]
  },
  {
   "cell_type": "code",
   "execution_count": 71,
   "id": "present-preference",
   "metadata": {},
   "outputs": [
    {
     "data": {
      "text/plain": [
       "197"
      ]
     },
     "execution_count": 71,
     "metadata": {},
     "output_type": "execute_result"
    }
   ],
   "source": [
    "from pyspark.sql import Row\n",
    "\n",
    "lines = sc.textFile(\"data/auto-data.csv\")\n",
    "\n",
    "# remove the header line\n",
    "datalines = lines.filter(lambda l: \"FUELTYPE\" not in l)\n",
    "datalines.count()"
   ]
  },
  {
   "cell_type": "code",
   "execution_count": 76,
   "id": "ancient-investigator",
   "metadata": {},
   "outputs": [
    {
     "data": {
      "text/plain": [
       "[['subaru',\n",
       "  'gas',\n",
       "  'std',\n",
       "  'two',\n",
       "  'hatchback',\n",
       "  'fwd',\n",
       "  'four',\n",
       "  '69',\n",
       "  '4900',\n",
       "  '31',\n",
       "  '36',\n",
       "  '5118']]"
      ]
     },
     "execution_count": 76,
     "metadata": {},
     "output_type": "execute_result"
    }
   ],
   "source": [
    "parts = datalines.map(lambda l: l.split(\",\"))\n",
    "parts.take(1)"
   ]
  },
  {
   "cell_type": "code",
   "execution_count": 50,
   "id": "capital-muslim",
   "metadata": {},
   "outputs": [
    {
     "data": {
      "text/plain": [
       "[Row(make='subaru', body='hatchback', hp=69),\n",
       " Row(make='chevrolet', body='hatchback', hp=48),\n",
       " Row(make='mazda', body='hatchback', hp=68),\n",
       " Row(make='toyota', body='hatchback', hp=62),\n",
       " Row(make='mitsubishi', body='hatchback', hp=68)]"
      ]
     },
     "execution_count": 50,
     "metadata": {},
     "output_type": "execute_result"
    }
   ],
   "source": [
    "autoMap = parts.map(lambda p: Row(make=p[0], body=p[4], hp=int(p[7])))\n",
    "autoMap.take(5)"
   ]
  },
  {
   "cell_type": "markdown",
   "id": "respiratory-bullet",
   "metadata": {},
   "source": [
    "### Infer Schema and register dataframe as a table"
   ]
  },
  {
   "cell_type": "code",
   "execution_count": 51,
   "id": "intellectual-volunteer",
   "metadata": {},
   "outputs": [
    {
     "data": {
      "text/plain": [
       "[Row(make='subaru', body='hatchback', hp=69),\n",
       " Row(make='chevrolet', body='hatchback', hp=48),\n",
       " Row(make='mazda', body='hatchback', hp=68),\n",
       " Row(make='toyota', body='hatchback', hp=62),\n",
       " Row(make='mitsubishi', body='hatchback', hp=68),\n",
       " Row(make='honda', body='hatchback', hp=60),\n",
       " Row(make='nissan', body='sedan', hp=69),\n",
       " Row(make='dodge', body='hatchback', hp=68),\n",
       " Row(make='plymouth', body='hatchback', hp=68),\n",
       " Row(make='mazda', body='hatchback', hp=68)]"
      ]
     },
     "execution_count": 51,
     "metadata": {},
     "output_type": "execute_result"
    }
   ],
   "source": [
    "autoDf = sqlContext.createDataFrame(autoMap)\n",
    "autoDf.head(10)"
   ]
  },
  {
   "cell_type": "code",
   "execution_count": 60,
   "id": "instrumental-vitamin",
   "metadata": {},
   "outputs": [
    {
     "name": "stdout",
     "output_type": "stream",
     "text": [
      "+-------------+-----------+---+\n",
      "|         make|       body| hp|\n",
      "+-------------+-----------+---+\n",
      "|       nissan|  hatchback|200|\n",
      "|          bmw|      sedan|182|\n",
      "|      porsche|    hardtop|207|\n",
      "|      porsche|    hardtop|207|\n",
      "|       jaguar|      sedan|262|\n",
      "|          bmw|      sedan|182|\n",
      "|      porsche|convertible|207|\n",
      "|mercedes-benz|      sedan|184|\n",
      "|          bmw|      sedan|182|\n",
      "|mercedes-benz|    hardtop|184|\n",
      "+-------------+-----------+---+\n",
      "\n"
     ]
    }
   ],
   "source": [
    "autoDf.registerTempTable(\"autos\")\n",
    "sqlContext.sql(\"SELECT * FROM autos WHERE hp > 180;\").show()"
   ]
  },
  {
   "cell_type": "code",
   "execution_count": 61,
   "id": "korean-window",
   "metadata": {},
   "outputs": [
    {
     "data": {
      "text/html": [
       "<div>\n",
       "<style scoped>\n",
       "    .dataframe tbody tr th:only-of-type {\n",
       "        vertical-align: middle;\n",
       "    }\n",
       "\n",
       "    .dataframe tbody tr th {\n",
       "        vertical-align: top;\n",
       "    }\n",
       "\n",
       "    .dataframe thead th {\n",
       "        text-align: right;\n",
       "    }\n",
       "</style>\n",
       "<table border=\"1\" class=\"dataframe\">\n",
       "  <thead>\n",
       "    <tr style=\"text-align: right;\">\n",
       "      <th></th>\n",
       "      <th>make</th>\n",
       "      <th>body</th>\n",
       "      <th>hp</th>\n",
       "    </tr>\n",
       "  </thead>\n",
       "  <tbody>\n",
       "    <tr>\n",
       "      <th>0</th>\n",
       "      <td>subaru</td>\n",
       "      <td>hatchback</td>\n",
       "      <td>69</td>\n",
       "    </tr>\n",
       "    <tr>\n",
       "      <th>1</th>\n",
       "      <td>chevrolet</td>\n",
       "      <td>hatchback</td>\n",
       "      <td>48</td>\n",
       "    </tr>\n",
       "    <tr>\n",
       "      <th>2</th>\n",
       "      <td>mazda</td>\n",
       "      <td>hatchback</td>\n",
       "      <td>68</td>\n",
       "    </tr>\n",
       "    <tr>\n",
       "      <th>3</th>\n",
       "      <td>toyota</td>\n",
       "      <td>hatchback</td>\n",
       "      <td>62</td>\n",
       "    </tr>\n",
       "    <tr>\n",
       "      <th>4</th>\n",
       "      <td>mitsubishi</td>\n",
       "      <td>hatchback</td>\n",
       "      <td>68</td>\n",
       "    </tr>\n",
       "  </tbody>\n",
       "</table>\n",
       "</div>"
      ],
      "text/plain": [
       "         make       body  hp\n",
       "0      subaru  hatchback  69\n",
       "1   chevrolet  hatchback  48\n",
       "2       mazda  hatchback  68\n",
       "3      toyota  hatchback  62\n",
       "4  mitsubishi  hatchback  68"
      ]
     },
     "execution_count": 61,
     "metadata": {},
     "output_type": "execute_result"
    }
   ],
   "source": [
    "dfAutoPandas = autoDf.toPandas()\n",
    "dfAutoPandas.head()"
   ]
  },
  {
   "cell_type": "code",
   "execution_count": 84,
   "id": "drawn-transcript",
   "metadata": {},
   "outputs": [
    {
     "data": {
      "text/html": [
       "<div>\n",
       "<style scoped>\n",
       "    .dataframe tbody tr th:only-of-type {\n",
       "        vertical-align: middle;\n",
       "    }\n",
       "\n",
       "    .dataframe tbody tr th {\n",
       "        vertical-align: top;\n",
       "    }\n",
       "\n",
       "    .dataframe thead th {\n",
       "        text-align: right;\n",
       "    }\n",
       "</style>\n",
       "<table border=\"1\" class=\"dataframe\">\n",
       "  <thead>\n",
       "    <tr style=\"text-align: right;\">\n",
       "      <th></th>\n",
       "      <th></th>\n",
       "      <th>hp</th>\n",
       "    </tr>\n",
       "    <tr>\n",
       "      <th>body</th>\n",
       "      <th>make</th>\n",
       "      <th></th>\n",
       "    </tr>\n",
       "  </thead>\n",
       "  <tbody>\n",
       "    <tr>\n",
       "      <th rowspan=\"5\" valign=\"top\">convertible</th>\n",
       "      <th>alfa-romero</th>\n",
       "      <td>111.000000</td>\n",
       "    </tr>\n",
       "    <tr>\n",
       "      <th>mercedes-benz</th>\n",
       "      <td>155.000000</td>\n",
       "    </tr>\n",
       "    <tr>\n",
       "      <th>porsche</th>\n",
       "      <td>207.000000</td>\n",
       "    </tr>\n",
       "    <tr>\n",
       "      <th>toyota</th>\n",
       "      <td>116.000000</td>\n",
       "    </tr>\n",
       "    <tr>\n",
       "      <th>volkswagen</th>\n",
       "      <td>90.000000</td>\n",
       "    </tr>\n",
       "    <tr>\n",
       "      <th rowspan=\"4\" valign=\"top\">hardtop</th>\n",
       "      <th>mercedes-benz</th>\n",
       "      <td>153.500000</td>\n",
       "    </tr>\n",
       "    <tr>\n",
       "      <th>nissan</th>\n",
       "      <td>69.000000</td>\n",
       "    </tr>\n",
       "    <tr>\n",
       "      <th>porsche</th>\n",
       "      <td>207.000000</td>\n",
       "    </tr>\n",
       "    <tr>\n",
       "      <th>toyota</th>\n",
       "      <td>116.000000</td>\n",
       "    </tr>\n",
       "    <tr>\n",
       "      <th rowspan=\"15\" valign=\"top\">hatchback</th>\n",
       "      <th>alfa-romero</th>\n",
       "      <td>154.000000</td>\n",
       "    </tr>\n",
       "    <tr>\n",
       "      <th>chevrolet</th>\n",
       "      <td>59.000000</td>\n",
       "    </tr>\n",
       "    <tr>\n",
       "      <th>dodge</th>\n",
       "      <td>90.200000</td>\n",
       "    </tr>\n",
       "    <tr>\n",
       "      <th>honda</th>\n",
       "      <td>74.000000</td>\n",
       "    </tr>\n",
       "    <tr>\n",
       "      <th>isuzu</th>\n",
       "      <td>90.000000</td>\n",
       "    </tr>\n",
       "    <tr>\n",
       "      <th>mazda</th>\n",
       "      <td>89.400000</td>\n",
       "    </tr>\n",
       "    <tr>\n",
       "      <th>mercury</th>\n",
       "      <td>175.000000</td>\n",
       "    </tr>\n",
       "    <tr>\n",
       "      <th>mitsubishi</th>\n",
       "      <td>105.000000</td>\n",
       "    </tr>\n",
       "    <tr>\n",
       "      <th>nissan</th>\n",
       "      <td>137.200000</td>\n",
       "    </tr>\n",
       "    <tr>\n",
       "      <th>plymouth</th>\n",
       "      <td>95.750000</td>\n",
       "    </tr>\n",
       "    <tr>\n",
       "      <th>porsche</th>\n",
       "      <td>143.000000</td>\n",
       "    </tr>\n",
       "    <tr>\n",
       "      <th>saab</th>\n",
       "      <td>126.666667</td>\n",
       "    </tr>\n",
       "    <tr>\n",
       "      <th>subaru</th>\n",
       "      <td>71.666667</td>\n",
       "    </tr>\n",
       "    <tr>\n",
       "      <th>toyota</th>\n",
       "      <td>93.000000</td>\n",
       "    </tr>\n",
       "    <tr>\n",
       "      <th>volkswagen</th>\n",
       "      <td>90.000000</td>\n",
       "    </tr>\n",
       "    <tr>\n",
       "      <th rowspan=\"18\" valign=\"top\">sedan</th>\n",
       "      <th>audi</th>\n",
       "      <td>115.400000</td>\n",
       "    </tr>\n",
       "    <tr>\n",
       "      <th>bmw</th>\n",
       "      <td>138.875000</td>\n",
       "    </tr>\n",
       "    <tr>\n",
       "      <th>chevrolet</th>\n",
       "      <td>70.000000</td>\n",
       "    </tr>\n",
       "    <tr>\n",
       "      <th>dodge</th>\n",
       "      <td>68.000000</td>\n",
       "    </tr>\n",
       "    <tr>\n",
       "      <th>honda</th>\n",
       "      <td>89.800000</td>\n",
       "    </tr>\n",
       "    <tr>\n",
       "      <th>isuzu</th>\n",
       "      <td>78.000000</td>\n",
       "    </tr>\n",
       "    <tr>\n",
       "      <th>jaguar</th>\n",
       "      <td>204.666667</td>\n",
       "    </tr>\n",
       "    <tr>\n",
       "      <th>mazda</th>\n",
       "      <td>82.666667</td>\n",
       "    </tr>\n",
       "    <tr>\n",
       "      <th>mercedes-benz</th>\n",
       "      <td>146.250000</td>\n",
       "    </tr>\n",
       "    <tr>\n",
       "      <th>mitsubishi</th>\n",
       "      <td>102.000000</td>\n",
       "    </tr>\n",
       "    <tr>\n",
       "      <th>nissan</th>\n",
       "      <td>89.000000</td>\n",
       "    </tr>\n",
       "    <tr>\n",
       "      <th>peugot</th>\n",
       "      <td>102.285714</td>\n",
       "    </tr>\n",
       "    <tr>\n",
       "      <th>plymouth</th>\n",
       "      <td>68.000000</td>\n",
       "    </tr>\n",
       "    <tr>\n",
       "      <th>saab</th>\n",
       "      <td>126.666667</td>\n",
       "    </tr>\n",
       "    <tr>\n",
       "      <th>subaru</th>\n",
       "      <td>90.200000</td>\n",
       "    </tr>\n",
       "    <tr>\n",
       "      <th>toyota</th>\n",
       "      <td>86.100000</td>\n",
       "    </tr>\n",
       "    <tr>\n",
       "      <th>volkswagen</th>\n",
       "      <td>78.333333</td>\n",
       "    </tr>\n",
       "    <tr>\n",
       "      <th>volvo</th>\n",
       "      <td>127.250000</td>\n",
       "    </tr>\n",
       "    <tr>\n",
       "      <th rowspan=\"11\" valign=\"top\">wagon</th>\n",
       "      <th>audi</th>\n",
       "      <td>110.000000</td>\n",
       "    </tr>\n",
       "    <tr>\n",
       "      <th>dodge</th>\n",
       "      <td>88.000000</td>\n",
       "    </tr>\n",
       "    <tr>\n",
       "      <th>honda</th>\n",
       "      <td>76.000000</td>\n",
       "    </tr>\n",
       "    <tr>\n",
       "      <th>mercedes-benz</th>\n",
       "      <td>123.000000</td>\n",
       "    </tr>\n",
       "    <tr>\n",
       "      <th>nissan</th>\n",
       "      <td>96.666667</td>\n",
       "    </tr>\n",
       "    <tr>\n",
       "      <th>peugot</th>\n",
       "      <td>95.500000</td>\n",
       "    </tr>\n",
       "    <tr>\n",
       "      <th>plymouth</th>\n",
       "      <td>88.000000</td>\n",
       "    </tr>\n",
       "    <tr>\n",
       "      <th>subaru</th>\n",
       "      <td>92.250000</td>\n",
       "    </tr>\n",
       "    <tr>\n",
       "      <th>toyota</th>\n",
       "      <td>85.500000</td>\n",
       "    </tr>\n",
       "    <tr>\n",
       "      <th>volkswagen</th>\n",
       "      <td>88.000000</td>\n",
       "    </tr>\n",
       "    <tr>\n",
       "      <th>volvo</th>\n",
       "      <td>130.000000</td>\n",
       "    </tr>\n",
       "  </tbody>\n",
       "</table>\n",
       "</div>"
      ],
      "text/plain": [
       "                                   hp\n",
       "body        make                     \n",
       "convertible alfa-romero    111.000000\n",
       "            mercedes-benz  155.000000\n",
       "            porsche        207.000000\n",
       "            toyota         116.000000\n",
       "            volkswagen      90.000000\n",
       "hardtop     mercedes-benz  153.500000\n",
       "            nissan          69.000000\n",
       "            porsche        207.000000\n",
       "            toyota         116.000000\n",
       "hatchback   alfa-romero    154.000000\n",
       "            chevrolet       59.000000\n",
       "            dodge           90.200000\n",
       "            honda           74.000000\n",
       "            isuzu           90.000000\n",
       "            mazda           89.400000\n",
       "            mercury        175.000000\n",
       "            mitsubishi     105.000000\n",
       "            nissan         137.200000\n",
       "            plymouth        95.750000\n",
       "            porsche        143.000000\n",
       "            saab           126.666667\n",
       "            subaru          71.666667\n",
       "            toyota          93.000000\n",
       "            volkswagen      90.000000\n",
       "sedan       audi           115.400000\n",
       "            bmw            138.875000\n",
       "            chevrolet       70.000000\n",
       "            dodge           68.000000\n",
       "            honda           89.800000\n",
       "            isuzu           78.000000\n",
       "            jaguar         204.666667\n",
       "            mazda           82.666667\n",
       "            mercedes-benz  146.250000\n",
       "            mitsubishi     102.000000\n",
       "            nissan          89.000000\n",
       "            peugot         102.285714\n",
       "            plymouth        68.000000\n",
       "            saab           126.666667\n",
       "            subaru          90.200000\n",
       "            toyota          86.100000\n",
       "            volkswagen      78.333333\n",
       "            volvo          127.250000\n",
       "wagon       audi           110.000000\n",
       "            dodge           88.000000\n",
       "            honda           76.000000\n",
       "            mercedes-benz  123.000000\n",
       "            nissan          96.666667\n",
       "            peugot          95.500000\n",
       "            plymouth        88.000000\n",
       "            subaru          92.250000\n",
       "            toyota          85.500000\n",
       "            volkswagen      88.000000\n",
       "            volvo          130.000000"
      ]
     },
     "execution_count": 84,
     "metadata": {},
     "output_type": "execute_result"
    }
   ],
   "source": [
    "dfAutoPandas.groupby(['body','make']).mean()"
   ]
  },
  {
   "cell_type": "code",
   "execution_count": 93,
   "id": "previous-nepal",
   "metadata": {},
   "outputs": [
    {
     "data": {
      "text/html": [
       "<div>\n",
       "<style scoped>\n",
       "    .dataframe tbody tr th:only-of-type {\n",
       "        vertical-align: middle;\n",
       "    }\n",
       "\n",
       "    .dataframe tbody tr th {\n",
       "        vertical-align: top;\n",
       "    }\n",
       "\n",
       "    .dataframe thead tr th {\n",
       "        text-align: left;\n",
       "    }\n",
       "\n",
       "    .dataframe thead tr:last-of-type th {\n",
       "        text-align: right;\n",
       "    }\n",
       "</style>\n",
       "<table border=\"1\" class=\"dataframe\">\n",
       "  <thead>\n",
       "    <tr>\n",
       "      <th></th>\n",
       "      <th colspan=\"5\" halign=\"left\">hp</th>\n",
       "    </tr>\n",
       "    <tr>\n",
       "      <th>body</th>\n",
       "      <th>convertible</th>\n",
       "      <th>hardtop</th>\n",
       "      <th>hatchback</th>\n",
       "      <th>sedan</th>\n",
       "      <th>wagon</th>\n",
       "    </tr>\n",
       "    <tr>\n",
       "      <th>make</th>\n",
       "      <th></th>\n",
       "      <th></th>\n",
       "      <th></th>\n",
       "      <th></th>\n",
       "      <th></th>\n",
       "    </tr>\n",
       "  </thead>\n",
       "  <tbody>\n",
       "    <tr>\n",
       "      <th>alfa-romero</th>\n",
       "      <td>111.0</td>\n",
       "      <td>NaN</td>\n",
       "      <td>154.000000</td>\n",
       "      <td>NaN</td>\n",
       "      <td>NaN</td>\n",
       "    </tr>\n",
       "    <tr>\n",
       "      <th>audi</th>\n",
       "      <td>NaN</td>\n",
       "      <td>NaN</td>\n",
       "      <td>NaN</td>\n",
       "      <td>115.400000</td>\n",
       "      <td>110.000000</td>\n",
       "    </tr>\n",
       "    <tr>\n",
       "      <th>bmw</th>\n",
       "      <td>NaN</td>\n",
       "      <td>NaN</td>\n",
       "      <td>NaN</td>\n",
       "      <td>138.875000</td>\n",
       "      <td>NaN</td>\n",
       "    </tr>\n",
       "    <tr>\n",
       "      <th>chevrolet</th>\n",
       "      <td>NaN</td>\n",
       "      <td>NaN</td>\n",
       "      <td>59.000000</td>\n",
       "      <td>70.000000</td>\n",
       "      <td>NaN</td>\n",
       "    </tr>\n",
       "    <tr>\n",
       "      <th>dodge</th>\n",
       "      <td>NaN</td>\n",
       "      <td>NaN</td>\n",
       "      <td>90.200000</td>\n",
       "      <td>68.000000</td>\n",
       "      <td>88.000000</td>\n",
       "    </tr>\n",
       "    <tr>\n",
       "      <th>honda</th>\n",
       "      <td>NaN</td>\n",
       "      <td>NaN</td>\n",
       "      <td>74.000000</td>\n",
       "      <td>89.800000</td>\n",
       "      <td>76.000000</td>\n",
       "    </tr>\n",
       "    <tr>\n",
       "      <th>isuzu</th>\n",
       "      <td>NaN</td>\n",
       "      <td>NaN</td>\n",
       "      <td>90.000000</td>\n",
       "      <td>78.000000</td>\n",
       "      <td>NaN</td>\n",
       "    </tr>\n",
       "    <tr>\n",
       "      <th>jaguar</th>\n",
       "      <td>NaN</td>\n",
       "      <td>NaN</td>\n",
       "      <td>NaN</td>\n",
       "      <td>204.666667</td>\n",
       "      <td>NaN</td>\n",
       "    </tr>\n",
       "    <tr>\n",
       "      <th>mazda</th>\n",
       "      <td>NaN</td>\n",
       "      <td>NaN</td>\n",
       "      <td>89.400000</td>\n",
       "      <td>82.666667</td>\n",
       "      <td>NaN</td>\n",
       "    </tr>\n",
       "    <tr>\n",
       "      <th>mercedes-benz</th>\n",
       "      <td>155.0</td>\n",
       "      <td>153.5</td>\n",
       "      <td>NaN</td>\n",
       "      <td>146.250000</td>\n",
       "      <td>123.000000</td>\n",
       "    </tr>\n",
       "    <tr>\n",
       "      <th>mercury</th>\n",
       "      <td>NaN</td>\n",
       "      <td>NaN</td>\n",
       "      <td>175.000000</td>\n",
       "      <td>NaN</td>\n",
       "      <td>NaN</td>\n",
       "    </tr>\n",
       "    <tr>\n",
       "      <th>mitsubishi</th>\n",
       "      <td>NaN</td>\n",
       "      <td>NaN</td>\n",
       "      <td>105.000000</td>\n",
       "      <td>102.000000</td>\n",
       "      <td>NaN</td>\n",
       "    </tr>\n",
       "    <tr>\n",
       "      <th>nissan</th>\n",
       "      <td>NaN</td>\n",
       "      <td>69.0</td>\n",
       "      <td>137.200000</td>\n",
       "      <td>89.000000</td>\n",
       "      <td>96.666667</td>\n",
       "    </tr>\n",
       "    <tr>\n",
       "      <th>peugot</th>\n",
       "      <td>NaN</td>\n",
       "      <td>NaN</td>\n",
       "      <td>NaN</td>\n",
       "      <td>102.285714</td>\n",
       "      <td>95.500000</td>\n",
       "    </tr>\n",
       "    <tr>\n",
       "      <th>plymouth</th>\n",
       "      <td>NaN</td>\n",
       "      <td>NaN</td>\n",
       "      <td>95.750000</td>\n",
       "      <td>68.000000</td>\n",
       "      <td>88.000000</td>\n",
       "    </tr>\n",
       "    <tr>\n",
       "      <th>porsche</th>\n",
       "      <td>207.0</td>\n",
       "      <td>207.0</td>\n",
       "      <td>143.000000</td>\n",
       "      <td>NaN</td>\n",
       "      <td>NaN</td>\n",
       "    </tr>\n",
       "    <tr>\n",
       "      <th>saab</th>\n",
       "      <td>NaN</td>\n",
       "      <td>NaN</td>\n",
       "      <td>126.666667</td>\n",
       "      <td>126.666667</td>\n",
       "      <td>NaN</td>\n",
       "    </tr>\n",
       "    <tr>\n",
       "      <th>subaru</th>\n",
       "      <td>NaN</td>\n",
       "      <td>NaN</td>\n",
       "      <td>71.666667</td>\n",
       "      <td>90.200000</td>\n",
       "      <td>92.250000</td>\n",
       "    </tr>\n",
       "    <tr>\n",
       "      <th>toyota</th>\n",
       "      <td>116.0</td>\n",
       "      <td>116.0</td>\n",
       "      <td>93.000000</td>\n",
       "      <td>86.100000</td>\n",
       "      <td>85.500000</td>\n",
       "    </tr>\n",
       "    <tr>\n",
       "      <th>volkswagen</th>\n",
       "      <td>90.0</td>\n",
       "      <td>NaN</td>\n",
       "      <td>90.000000</td>\n",
       "      <td>78.333333</td>\n",
       "      <td>88.000000</td>\n",
       "    </tr>\n",
       "    <tr>\n",
       "      <th>volvo</th>\n",
       "      <td>NaN</td>\n",
       "      <td>NaN</td>\n",
       "      <td>NaN</td>\n",
       "      <td>127.250000</td>\n",
       "      <td>130.000000</td>\n",
       "    </tr>\n",
       "  </tbody>\n",
       "</table>\n",
       "</div>"
      ],
      "text/plain": [
       "                       hp                                            \n",
       "body          convertible hardtop   hatchback       sedan       wagon\n",
       "make                                                                 \n",
       "alfa-romero         111.0     NaN  154.000000         NaN         NaN\n",
       "audi                  NaN     NaN         NaN  115.400000  110.000000\n",
       "bmw                   NaN     NaN         NaN  138.875000         NaN\n",
       "chevrolet             NaN     NaN   59.000000   70.000000         NaN\n",
       "dodge                 NaN     NaN   90.200000   68.000000   88.000000\n",
       "honda                 NaN     NaN   74.000000   89.800000   76.000000\n",
       "isuzu                 NaN     NaN   90.000000   78.000000         NaN\n",
       "jaguar                NaN     NaN         NaN  204.666667         NaN\n",
       "mazda                 NaN     NaN   89.400000   82.666667         NaN\n",
       "mercedes-benz       155.0   153.5         NaN  146.250000  123.000000\n",
       "mercury               NaN     NaN  175.000000         NaN         NaN\n",
       "mitsubishi            NaN     NaN  105.000000  102.000000         NaN\n",
       "nissan                NaN    69.0  137.200000   89.000000   96.666667\n",
       "peugot                NaN     NaN         NaN  102.285714   95.500000\n",
       "plymouth              NaN     NaN   95.750000   68.000000   88.000000\n",
       "porsche             207.0   207.0  143.000000         NaN         NaN\n",
       "saab                  NaN     NaN  126.666667  126.666667         NaN\n",
       "subaru                NaN     NaN   71.666667   90.200000   92.250000\n",
       "toyota              116.0   116.0   93.000000   86.100000   85.500000\n",
       "volkswagen           90.0     NaN   90.000000   78.333333   88.000000\n",
       "volvo                 NaN     NaN         NaN  127.250000  130.000000"
      ]
     },
     "execution_count": 93,
     "metadata": {},
     "output_type": "execute_result"
    }
   ],
   "source": [
    "import numpy as np\n",
    "table = pd.pivot_table(dfAutoPandas,index=['make'],columns=['body'],values=['hp'])\n",
    "table"
   ]
  }
 ],
 "metadata": {
  "kernelspec": {
   "display_name": "Python 3",
   "language": "python",
   "name": "python3"
  },
  "language_info": {
   "codemirror_mode": {
    "name": "ipython",
    "version": 3
   },
   "file_extension": ".py",
   "mimetype": "text/x-python",
   "name": "python",
   "nbconvert_exporter": "python",
   "pygments_lexer": "ipython3",
   "version": "3.9.2"
  }
 },
 "nbformat": 4,
 "nbformat_minor": 5
}
