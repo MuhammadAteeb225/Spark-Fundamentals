{
 "cells": [
  {
   "cell_type": "markdown",
   "id": "periodic-combat",
   "metadata": {},
   "source": [
    "# Introduction to SparkStreaming"
   ]
  },
  {
   "cell_type": "markdown",
   "id": "weighted-upgrade",
   "metadata": {},
   "source": [
    "## Spark Streaming Initiallization Script"
   ]
  },
  {
   "cell_type": "code",
   "execution_count": 1,
   "id": "comprehensive-haven",
   "metadata": {},
   "outputs": [
    {
     "name": "stdout",
     "output_type": "stream",
     "text": [
      "Enabling notebook extension jupyter_tabnine/main...\n",
      "      - Validating: \u001b[32mOK\u001b[0m\n",
      "Enabling: jupyter_tabnine\n",
      "- Writing config: /home/ateeb/.jupyter\n",
      "    - Validating...\n",
      "      jupyter_tabnine  \u001b[32mOK\u001b[0m\n"
     ]
    }
   ],
   "source": [
    "# !pip install jupyter-tabnine\n",
    "# !jupyter nbextension install --py jupyter_tabnine\n",
    "!jupyter nbextension enable --py jupyter_tabnine\n",
    "!jupyter serverextension enable --py jupyter_tabnine"
   ]
  },
  {
   "cell_type": "code",
   "execution_count": 2,
   "id": "frequent-charter",
   "metadata": {},
   "outputs": [],
   "source": [
    "#!/usr/bin/env python3\n",
    "import sys\n",
    "import os\n",
    "\n",
    "# getting the directory where Spark was installed\n",
    "if 'SPARK_HOME' not in os.environ:\n",
    "    os.environ['SPARK_HOME'] = '/opt/spark'\n",
    "\n",
    "# python variable to store the root path for later reference\n",
    "SPARK_HOME = os.environ['SPARK_HOME']\n",
    "\n",
    "# adding pyspark and py4j packages paths to python path env variable\n",
    "sys.path.insert(0,os.path.join(SPARK_HOME, \"python\"))\n",
    "sys.path.insert(0,os.path.join(SPARK_HOME, \"python\", \"lib\"))\n",
    "sys.path.insert(0,os.path.join(SPARK_HOME, \"python\", \"lib\", 'py4j-0.10.9-src.zip'))\n",
    "sys.path.insert(0, os.path.join(SPARK_HOME, 'python', 'lib', 'pyspark.zip'))\n",
    "\n",
    "from pyspark import SparkContext\n",
    "from pyspark import SparkConf\n",
    "\n",
    "conf = SparkConf()\n",
    "conf.set('spark.executer.memory','1g')\n",
    "conf.set('spark.cores.max','2')\n",
    "\n",
    "# give name to your spark application\n",
    "conf.setAppName(\"SparkStreamingApp\")\n",
    "\n",
    "# create a spark context object \n",
    "# note: Execute only once otherwise results in Context Errors\n",
    "# create the spark context with 2 threads for streaming\n",
    "sc = SparkContext('local[2]',conf=conf)"
   ]
  },
  {
   "cell_type": "markdown",
   "id": "dried-criterion",
   "metadata": {},
   "source": [
    "#### Once the above script is executed you can view the Spark instance info here http://localhost:4040"
   ]
  },
  {
   "cell_type": "markdown",
   "id": "bored-russian",
   "metadata": {},
   "source": [
    "### Creating SparkStreaming context from Spark context"
   ]
  },
  {
   "cell_type": "code",
   "execution_count": 3,
   "id": "international-attention",
   "metadata": {},
   "outputs": [],
   "source": [
    "from pyspark.streaming import StreamingContext\n",
    "\n",
    "#Create streaming context \n",
    "#micro-batch size = 2(sec)\n",
    "ssc = StreamingContext(sc,2)"
   ]
  },
  {
   "cell_type": "markdown",
   "id": "understanding-president",
   "metadata": {},
   "source": [
    "### Streaming with Simple Data"
   ]
  },
  {
   "cell_type": "code",
   "execution_count": 4,
   "id": "sustainable-manchester",
   "metadata": {},
   "outputs": [],
   "source": [
    "# an array to be used to create a stream of data\n",
    "vc = [[1,2],[3,4],[5,6],[7,8],[9,10],[11,12]]\n",
    "\n",
    "# convert data to a list of RDDs\n",
    "dvc = [sc.parallelize(i,1) for i in vc]\n",
    "\n",
    "# creating a streaming queue\n",
    "input_stream = ssc.queueStream(dvc)"
   ]
  },
  {
   "cell_type": "code",
   "execution_count": 5,
   "id": "noticed-archive",
   "metadata": {},
   "outputs": [],
   "source": [
    "# function (transformations/actions) to perfrom on each micro-batch\n",
    "def get_output(rdd):\n",
    "    print (rdd.collect())\n",
    "\n",
    "# the below code will execute for each batch that is created from the incoming stream of data\n",
    "input_stream.foreachRDD(get_output)"
   ]
  },
  {
   "cell_type": "markdown",
   "id": "outdoor-olympus",
   "metadata": {},
   "source": [
    "#### Start the streaming, view the console and http://localhost:4040 for info"
   ]
  },
  {
   "cell_type": "code",
   "execution_count": 6,
   "id": "unknown-uncertainty",
   "metadata": {},
   "outputs": [
    {
     "name": "stdout",
     "output_type": "stream",
     "text": [
      "[1, 2]\n",
      "[3, 4]\n",
      "[5, 6]\n",
      "[7, 8]\n",
      "[9, 10]\n",
      "[11, 12]\n",
      "[]\n",
      "[]\n"
     ]
    }
   ],
   "source": [
    "ssc.start()"
   ]
  },
  {
   "cell_type": "code",
   "execution_count": 7,
   "id": "explicit-grade",
   "metadata": {},
   "outputs": [],
   "source": [
    "ssc.stop()"
   ]
  },
  {
   "cell_type": "markdown",
   "id": "waiting-projector",
   "metadata": {},
   "source": [
    "### Streaming with TCP/IP data"
   ]
  },
  {
   "cell_type": "code",
   "execution_count": 8,
   "id": "employed-shark",
   "metadata": {},
   "outputs": [],
   "source": [
    "#Create streaming context with latency of 1\n",
    "#micro-batch size = 3(sec)\n",
    "sc = SparkContext.getOrCreate(conf=conf)\n",
    "ssc = StreamingContext(sc,3)"
   ]
  },
  {
   "cell_type": "code",
   "execution_count": 9,
   "id": "fallen-rotation",
   "metadata": {},
   "outputs": [],
   "source": [
    "lines = ssc.socketTextStream(\"localhost\",9000)\n",
    "\n",
    "# map each line to a list of words\n",
    "# make each entry a key value pair\n",
    "# add the values by key to get no. of occurance of each word\n",
    "words = lines.flatMap(lambda line: line.split(\" \"))\n",
    "pairs = words.map(lambda word: (word,1))\n",
    "wordCounts = pairs.reduceByKey(lambda x,y: x+y)\n",
    "wordCounts.pprint(5)\n",
    "\n",
    "linesCount = 0\n",
    "totalLines = 0\n",
    "def computeMetrics(rdd):\n",
    "    global totalLines\n",
    "    global linesCount\n",
    "    linesCount = rdd.count()\n",
    "    totalLines += rdd.count()\n",
    "    print(rdd.collect())\n",
    "    print(\"Lines in RDD: \",linesCount,\" Total Lines: \", totalLines)\n",
    "    \n",
    "lines.foreachRDD(computeMetrics)\n",
    "\n",
    "# function to act upon the windowed RDD\n",
    "def windowMetrics(rdd):\n",
    "    print(\"Window RDD Size: \",rdd.count())\n",
    "    print(rdd.collect())\n",
    "\n",
    "# creating a window of 2*3 i.e including two batches and sliding every 3 secs\n",
    "# lines.window(window size, sliding interval)\n",
    "windowedRDD = lines.window(6,3)\n",
    "# call method for every new update in window\n",
    "windowedRDD.foreachRDD(windowMetrics)"
   ]
  },
  {
   "cell_type": "markdown",
   "id": "rapid-consortium",
   "metadata": {},
   "source": [
    "#### staring the stream"
   ]
  },
  {
   "cell_type": "code",
   "execution_count": 10,
   "id": "permanent-distinction",
   "metadata": {},
   "outputs": [
    {
     "name": "stdout",
     "output_type": "stream",
     "text": [
      "-------------------------------------------\n",
      "Time: 2021-04-05 16:25:27\n",
      "-------------------------------------------\n",
      "('i', 1)\n",
      "('thought', 1)\n",
      "('was', 1)\n",
      "('do', 1)\n",
      "('like', 1)\n",
      "...\n",
      "\n",
      "['i thought da vinci code was great', 'I do like Angels and Demons more then The Da Vinci Code.']\n",
      "Lines in RDD:  2  Total Lines:  2\n",
      "Window RDD Size:  2\n",
      "['i thought da vinci code was great', 'I do like Angels and Demons more then The Da Vinci Code.']\n",
      "-------------------------------------------\n",
      "Time: 2021-04-05 16:25:30\n",
      "-------------------------------------------\n",
      "('liked', 1)\n",
      "('Da', 1)\n",
      "('but', 1)\n",
      "('the', 1)\n",
      "('seem', 1)\n",
      "...\n",
      "\n",
      "[\"I liked the Da Vinci Code but it ultimatly didn't seem to hold it's own.\"]\n",
      "Lines in RDD:  1  Total Lines:  3\n",
      "Window RDD Size:  3\n",
      "['i thought da vinci code was great', 'I do like Angels and Demons more then The Da Vinci Code.', \"I liked the Da Vinci Code but it ultimatly didn't seem to hold it's own.\"]\n",
      "-------------------------------------------\n",
      "Time: 2021-04-05 16:25:33\n",
      "-------------------------------------------\n",
      "('i', 2)\n",
      "('Da', 1)\n",
      "('code..', 2)\n",
      "('lol', 1)\n",
      "('nd', 1)\n",
      "...\n",
      "\n",
      "['lol nd i heard da vinci code sucks..', 'Hey I loved The Da Vinci Code!..', 'i loved da vinci code..', 'also loved the da vinci code..']\n",
      "Lines in RDD:  4  Total Lines:  7\n",
      "Window RDD Size:  5\n",
      "[\"I liked the Da Vinci Code but it ultimatly didn't seem to hold it's own.\", 'lol nd i heard da vinci code sucks..', 'Hey I loved The Da Vinci Code!..', 'i loved da vinci code..', 'also loved the da vinci code..']\n",
      "-------------------------------------------\n",
      "Time: 2021-04-05 16:25:36\n",
      "-------------------------------------------\n",
      "('Da', 1)\n",
      "('an', 1)\n",
      "('The', 1)\n",
      "('Vinci', 1)\n",
      "('Code', 1)\n",
      "...\n",
      "\n",
      "['The Da Vinci Code is an awesome book...']\n",
      "Lines in RDD:  1  Total Lines:  8\n",
      "Window RDD Size:  5\n",
      "['lol nd i heard da vinci code sucks..', 'Hey I loved The Da Vinci Code!..', 'i loved da vinci code..', 'also loved the da vinci code..', 'The Da Vinci Code is an awesome book...']\n",
      "-------------------------------------------\n",
      "Time: 2021-04-05 16:25:39\n",
      "-------------------------------------------\n",
      "('i', 1)\n",
      "('Da', 1)\n",
      "('an', 1)\n",
      "('*', 2)\n",
      "('book', 1)\n",
      "...\n",
      "\n",
      "['about how much i hate the da vinci code.', 'The Da Vinci Code is an * amazing * book']\n",
      "Lines in RDD:  2  Total Lines:  10\n",
      "Window RDD Size:  3\n",
      "['The Da Vinci Code is an awesome book...', 'about how much i hate the da vinci code.', 'The Da Vinci Code is an * amazing * book']\n",
      "-------------------------------------------\n",
      "Time: 2021-04-05 16:25:42\n",
      "-------------------------------------------\n",
      "('Da', 2)\n",
      "('of', 2)\n",
      "('movies', 1)\n",
      "('ever', 1)\n",
      "('Had', 1)\n",
      "...\n",
      "\n",
      "['The Da Vinci Code is one of the most beautiful movies ive ever seen.', 'Had an interesting conversation with one of the professors I work for about how Da Vinci Code sucks...', 'i love da vinci code....']\n",
      "Lines in RDD:  3  Total Lines:  13\n",
      "Window RDD Size:  5\n",
      "['about how much i hate the da vinci code.', 'The Da Vinci Code is an * amazing * book', 'The Da Vinci Code is one of the most beautiful movies ive ever seen.', 'Had an interesting conversation with one of the professors I work for about how Da Vinci Code sucks...', 'i love da vinci code....']\n",
      "-------------------------------------------\n",
      "Time: 2021-04-05 16:25:45\n",
      "-------------------------------------------\n",
      "('Da', 2)\n",
      "('an', 1)\n",
      "('*', 2)\n",
      "('book', 1)\n",
      "('hated', 1)\n",
      "...\n",
      "\n",
      "['I hated The Da Vinci Code.', 'The Da Vinci Code is an * amazing * book']\n",
      "Lines in RDD:  2  Total Lines:  15\n",
      "Window RDD Size:  5\n",
      "['The Da Vinci Code is one of the most beautiful movies ive ever seen.', 'Had an interesting conversation with one of the professors I work for about how Da Vinci Code sucks...', 'i love da vinci code....', 'I hated The Da Vinci Code.', 'The Da Vinci Code is an * amazing * book']\n"
     ]
    }
   ],
   "source": [
    "ssc.start()"
   ]
  },
  {
   "cell_type": "code",
   "execution_count": 11,
   "id": "latest-glucose",
   "metadata": {},
   "outputs": [],
   "source": [
    "ssc.stop()"
   ]
  },
  {
   "cell_type": "code",
   "execution_count": 12,
   "id": "dietary-insider",
   "metadata": {},
   "outputs": [
    {
     "name": "stdout",
     "output_type": "stream",
     "text": [
      "Overall lines : 15\n"
     ]
    }
   ],
   "source": [
    "print(\"Overall lines :\", totalLines)"
   ]
  },
  {
   "cell_type": "markdown",
   "id": "painful-desperate",
   "metadata": {},
   "source": [
    "### Testing with different windowing intervals"
   ]
  },
  {
   "cell_type": "code",
   "execution_count": 13,
   "id": "clean-sheep",
   "metadata": {},
   "outputs": [],
   "source": [
    "#Create streaming context with latency of 1\n",
    "#micro-batch size = 3(sec)\n",
    "sc = SparkContext.getOrCreate(conf=conf)\n",
    "ssc = StreamingContext(sc,3)"
   ]
  },
  {
   "cell_type": "code",
   "execution_count": 14,
   "id": "conditional-office",
   "metadata": {},
   "outputs": [],
   "source": [
    "lines = ssc.socketTextStream(\"localhost\",9000)\n",
    "\n",
    "\n",
    "linesCount = 0\n",
    "totalLines = 0\n",
    "def computeMetrics(rdd):\n",
    "    global totalLines\n",
    "    global linesCount\n",
    "    linesCount = rdd.count()\n",
    "    totalLines += rdd.count()\n",
    "    print(\"\\n\",\":\"*100)\n",
    "    print(rdd.collect())\n",
    "    print(\"Lines in RDD: \",linesCount,\" Total Lines: \", totalLines)\n",
    "    \n",
    "lines.foreachRDD(computeMetrics)\n",
    "\n",
    "# function to act upon the windowed RDD\n",
    "def windowMetrics(rdd):\n",
    "    print(\"Window RDD Size: \",rdd.count())\n",
    "    print(rdd.collect())\n",
    "\n",
    "# creating a window of 2*3 i.e including two batches and sliding every 3 secs\n",
    "# lines.window(window size, sliding interval)\n",
    "windowedRDD = lines.window(6,6)\n",
    "# call method for every new update in window\n",
    "windowedRDD.foreachRDD(windowMetrics)"
   ]
  },
  {
   "cell_type": "code",
   "execution_count": 15,
   "id": "junior-moderator",
   "metadata": {},
   "outputs": [
    {
     "name": "stdout",
     "output_type": "stream",
     "text": [
      "\n",
      " ::::::::::::::::::::::::::::::::::::::::::::::::::::::::::::::::::::::::::::::::::::::::::::::::::::\n",
      "['i loved the da vinci code.']\n",
      "Lines in RDD:  1  Total Lines:  1\n",
      "\n",
      " ::::::::::::::::::::::::::::::::::::::::::::::::::::::::::::::::::::::::::::::::::::::::::::::::::::\n",
      "['about how much i hate the da vinci code.']\n",
      "Lines in RDD:  1  Total Lines:  2\n",
      "Window RDD Size:  2\n",
      "['i loved the da vinci code.', 'about how much i hate the da vinci code.']\n",
      "\n",
      " ::::::::::::::::::::::::::::::::::::::::::::::::::::::::::::::::::::::::::::::::::::::::::::::::::::\n",
      "[\"RACHEL you could of told me your nans a libarian before i said i hated'The da vinci code '!!\", 'I loved The Da Vinci Code.']\n",
      "Lines in RDD:  2  Total Lines:  4\n",
      "\n",
      " ::::::::::::::::::::::::::::::::::::::::::::::::::::::::::::::::::::::::::::::::::::::::::::::::::::\n",
      "[\"The Da Vinci Code's backtory on various religious historical figures and such were interesting at times\", 'I HATED Da Vinci Code!', 'Had an interesting conversation with one of the professors I work for about how Da Vinci Code sucks...']\n",
      "Lines in RDD:  3  Total Lines:  7\n",
      "Window RDD Size:  5\n",
      "[\"RACHEL you could of told me your nans a libarian before i said i hated'The da vinci code '!!\", 'I loved The Da Vinci Code.', \"The Da Vinci Code's backtory on various religious historical figures and such were interesting at times\", 'I HATED Da Vinci Code!', 'Had an interesting conversation with one of the professors I work for about how Da Vinci Code sucks...']\n",
      "\n",
      " ::::::::::::::::::::::::::::::::::::::::::::::::::::::::::::::::::::::::::::::::::::::::::::::::::::\n",
      "['i loved the da vinci code.', 'Da Vinci code is awesome!']\n",
      "Lines in RDD:  2  Total Lines:  9\n",
      "\n",
      " ::::::::::::::::::::::::::::::::::::::::::::::::::::::::::::::::::::::::::::::::::::::::::::::::::::\n",
      "['Da Vinci Code sucks.', 'oh so beautiful Da Vinci Code...']\n",
      "Lines in RDD:  2  Total Lines:  11\n",
      "Window RDD Size:  4\n",
      "['i loved the da vinci code.', 'Da Vinci code is awesome!', 'Da Vinci Code sucks.', 'oh so beautiful Da Vinci Code...']\n",
      "\n",
      " ::::::::::::::::::::::::::::::::::::::::::::::::::::::::::::::::::::::::::::::::::::::::::::::::::::\n",
      "['Had an interesting conversation with one of the professors I work for about how Da Vinci Code sucks...', 'Da Vinci Code really did suck and congrats on beating Jay it must of been like that time at Rickards when we beat them in the finals.']\n",
      "Lines in RDD:  2  Total Lines:  13\n",
      "\n",
      " ::::::::::::::::::::::::::::::::::::::::::::::::::::::::::::::::::::::::::::::::::::::::::::::::::::\n",
      "[\"looks amazingly fun and possibly a bit cold... [ don't tell anyone ] but da vinci code is an awesome book.\"]\n",
      "Lines in RDD:  1  Total Lines:  14\n",
      "Window RDD Size:  3\n",
      "['Had an interesting conversation with one of the professors I work for about how Da Vinci Code sucks...', 'Da Vinci Code really did suck and congrats on beating Jay it must of been like that time at Rickards when we beat them in the finals.', \"looks amazingly fun and possibly a bit cold... [ don't tell anyone ] but da vinci code is an awesome book.\"]\n"
     ]
    }
   ],
   "source": [
    "ssc.start()"
   ]
  },
  {
   "cell_type": "code",
   "execution_count": 16,
   "id": "defensive-tiger",
   "metadata": {},
   "outputs": [],
   "source": [
    "ssc.stop()"
   ]
  },
  {
   "cell_type": "code",
   "execution_count": 17,
   "id": "automotive-fiction",
   "metadata": {},
   "outputs": [
    {
     "name": "stdout",
     "output_type": "stream",
     "text": [
      "Overall lines : 14\n"
     ]
    }
   ],
   "source": [
    "print(\"Overall lines :\", totalLines)"
   ]
  },
  {
   "cell_type": "code",
   "execution_count": 18,
   "id": "tough-burst",
   "metadata": {},
   "outputs": [],
   "source": [
    "sc.stop()"
   ]
  },
  {
   "cell_type": "code",
   "execution_count": null,
   "id": "finite-villa",
   "metadata": {},
   "outputs": [],
   "source": []
  }
 ],
 "metadata": {
  "kernelspec": {
   "display_name": "Python 3",
   "language": "python",
   "name": "python3"
  },
  "language_info": {
   "codemirror_mode": {
    "name": "ipython",
    "version": 3
   },
   "file_extension": ".py",
   "mimetype": "text/x-python",
   "name": "python",
   "nbconvert_exporter": "python",
   "pygments_lexer": "ipython3",
   "version": "3.9.2"
  }
 },
 "nbformat": 4,
 "nbformat_minor": 5
}
