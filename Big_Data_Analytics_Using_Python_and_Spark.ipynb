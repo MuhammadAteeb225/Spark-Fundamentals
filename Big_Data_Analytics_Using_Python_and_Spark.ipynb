{
 "cells": [
  {
   "cell_type": "markdown",
   "id": "asian-usage",
   "metadata": {},
   "source": [
    "### Initialization Script"
   ]
  },
  {
   "cell_type": "code",
   "execution_count": null,
   "id": "parliamentary-swimming",
   "metadata": {},
   "outputs": [],
   "source": [
    "#!/usr/bin/env python3\n",
    "# -*- coding: utf-8 -*-\n",
    "\n",
    "import sys\n",
    "import os \n",
    "\n",
    "# getting the directory where Spark was installed\n",
    "if 'SPARK_HOME' not in os.environ:\n",
    "    os.environ['SPARK_HOME'] = '/opt/spark'\n",
    " \n",
    "# python variable to store the root path for later reference\n",
    "SPARK_HOME = os.environ['SPARK_HOME']\n",
    "\n",
    "# adding pyspark and py4j packages paths to python path env variable\n",
    "sys.path.insert(0, os.path.join(SPARK_HOME, 'python'))\n",
    "sys.path.insert(0, os.path.join(SPARK_HOME, 'python', 'lib'))\n",
    "sys.path.insert(0, os.path.join(SPARK_HOME, 'python', 'lib', 'py4j-0.10.9-src.zip'))\n",
    "sys.path.insert(0, os.path.join(SPARK_HOME, 'python', 'lib', 'pyspark.zip'))\n",
    "\n",
    "from pyspark import SparkContext\n",
    "from pyspark import SparkConf\n",
    "\n",
    "# configure spark settings\n",
    "conf = SparkConf()\n",
    "conf.set(\"spark.executer.memory\",\"1g\")\n",
    "conf.set(\"spark.cores.max\",'2')\n",
    "\n",
    "# give name to your spark application\n",
    "conf.setAppName(\"FirstSparkApp\")\n",
    "\n",
    "# create a spark context object \n",
    "# note: Execute only once otherwise results in Context Errors\n",
    "sc = SparkContext('local',conf=conf)"
   ]
  },
  {
   "cell_type": "markdown",
   "id": "double-scottish",
   "metadata": {},
   "source": [
    "### Once the above script is executed you can view the Spark instance info here http://localhost:4040"
   ]
  },
  {
   "cell_type": "markdown",
   "id": "complimentary-waterproof",
   "metadata": {},
   "source": [
    "### Reading a csv file for analysis using Spark"
   ]
  },
  {
   "cell_type": "code",
   "execution_count": 2,
   "id": "alpine-pantyhose",
   "metadata": {},
   "outputs": [
    {
     "data": {
      "text/plain": [
       "202"
      ]
     },
     "execution_count": 2,
     "metadata": {},
     "output_type": "execute_result"
    }
   ],
   "source": [
    "# specifying the file path to read\n",
    "autodata = sc.textFile('/home/ateeb/Downloads/automobile.csv')\n",
    "\n",
    "# cache the autodata as soon as first action is called\n",
    "autodata.cache()\n",
    "\n",
    "# count the number of lines in autodata\n",
    "# cache is also performed after this call (lazy evaluation)\n",
    "autodata.count()"
   ]
  },
  {
   "cell_type": "code",
   "execution_count": 3,
   "id": "automatic-grain",
   "metadata": {},
   "outputs": [
    {
     "data": {
      "text/plain": [
       "'symboling,normalized-losses,make,fuel-type,aspiration,num-of-doors,body-style,drive-wheels,engine-location,wheel-base,length,width,height,curb-weight,engine-type,num-of-cylinders,engine-size,fuel-system,bore,stroke,compression-ratio,horsepower,peak-rpm,city-mpg,highway-mpg,price'"
      ]
     },
     "execution_count": 3,
     "metadata": {},
     "output_type": "execute_result"
    }
   ],
   "source": [
    "# print first row of data\n",
    "autodata.first()"
   ]
  },
  {
   "cell_type": "code",
   "execution_count": 38,
   "id": "absent-offset",
   "metadata": {},
   "outputs": [
    {
     "data": {
      "text/plain": [
       "['symboling,normalized-losses,make,fuel-type,aspiration,num-of-doors,body-style,drive-wheels,engine-location,wheel-base,length,width,height,curb-weight,engine-type,num-of-cylinders,engine-size,fuel-system,bore,stroke,compression-ratio,horsepower,peak-rpm,city-mpg,highway-mpg,price',\n",
       " '3,122,alfa-romero,gas,std,two,convertible,rwd,front,88.6,168.8,64.1,48.8,2548,dohc,four,130,mpfi,3.47,2.68,9.0,111,5000.0,21,27,13495.0']"
      ]
     },
     "execution_count": 38,
     "metadata": {},
     "output_type": "execute_result"
    }
   ],
   "source": [
    "# returns first n rows of data\n",
    "autodata.take(2)"
   ]
  },
  {
   "cell_type": "code",
   "execution_count": 36,
   "id": "covered-yellow",
   "metadata": {},
   "outputs": [
    {
     "name": "stdout",
     "output_type": "stream",
     "text": [
      "symboling,normalized\n"
     ]
    }
   ],
   "source": [
    "# loop to operate on each row/line of autodate\n",
    "for line in autodata.collect():\n",
    "    print(line[0:20])\n",
    "    break"
   ]
  },
  {
   "cell_type": "code",
   "execution_count": 6,
   "id": "serial-australian",
   "metadata": {},
   "outputs": [
    {
     "data": {
      "text/plain": [
       "5"
      ]
     },
     "execution_count": 6,
     "metadata": {},
     "output_type": "execute_result"
    }
   ],
   "source": [
    "# creating RDD from python collection\n",
    "collData = sc.parallelize([3,5,4,7,4])\n",
    "collData.cache()\n",
    "collData.count()"
   ]
  },
  {
   "cell_type": "markdown",
   "id": "alone-preserve",
   "metadata": {},
   "source": [
    "### Transformations"
   ]
  },
  {
   "cell_type": "code",
   "execution_count": 7,
   "id": "processed-update",
   "metadata": {},
   "outputs": [
    {
     "data": {
      "text/plain": [
       "['symboling\\tnormalized-losses\\tmake\\tfuel-type\\taspiration\\tnum-of-doors\\tbody-style\\tdrive-wheels\\tengine-location\\twheel-base\\tlength\\twidth\\theight\\tcurb-weight\\tengine-type\\tnum-of-cylinders\\tengine-size\\tfuel-system\\tbore\\tstroke\\tcompression-ratio\\thorsepower\\tpeak-rpm\\tcity-mpg\\thighway-mpg\\tprice',\n",
       " '3\\t122\\talfa-romero\\tgas\\tstd\\ttwo\\tconvertible\\trwd\\tfront\\t88.6\\t168.8\\t64.1\\t48.8\\t2548\\tdohc\\tfour\\t130\\tmpfi\\t3.47\\t2.68\\t9.0\\t111\\t5000.0\\t21\\t27\\t13495.0',\n",
       " '3\\t122\\talfa-romero\\tgas\\tstd\\ttwo\\tconvertible\\trwd\\tfront\\t88.6\\t168.8\\t64.1\\t48.8\\t2548\\tdohc\\tfour\\t130\\tmpfi\\t3.47\\t2.68\\t9.0\\t111\\t5000.0\\t21\\t27\\t16500.0',\n",
       " '1\\t122\\talfa-romero\\tgas\\tstd\\ttwo\\thatchback\\trwd\\tfront\\t94.5\\t171.2\\t65.5\\t52.4\\t2823\\tohcv\\tsix\\t152\\tmpfi\\t2.68\\t3.47\\t9.0\\t154\\t5000.0\\t19\\t26\\t16500.0',\n",
       " '2\\t164\\taudi\\tgas\\tstd\\tfour\\tsedan\\tfwd\\tfront\\t99.8\\t176.6\\t66.2\\t54.3\\t2337\\tohc\\tfour\\t109\\tmpfi\\t3.19\\t3.4\\t10.0\\t102\\t5500.0\\t24\\t30\\t13950.0']"
      ]
     },
     "execution_count": 7,
     "metadata": {},
     "output_type": "execute_result"
    }
   ],
   "source": [
    "tsvData = autodata.map(lambda x: x.replace(\",\",\"\\t\"))\n",
    "tsvData.take(5)"
   ]
  },
  {
   "cell_type": "code",
   "execution_count": 8,
   "id": "varied-venture",
   "metadata": {},
   "outputs": [
    {
     "data": {
      "text/plain": [
       "['1,87,toyota,gas,std,two,hatchback,fwd,front,95.7,158.7,63.6,54.5,1985,ohc,four,92,2bbl,3.05,3.03,9.0,62,4800.0,35,39,5348.0',\n",
       " '1,87,toyota,gas,std,two,hatchback,fwd,front,95.7,158.7,63.6,54.5,2040,ohc,four,92,2bbl,3.05,3.03,9.0,62,4800.0,31,38,6338.0',\n",
       " '1,74,toyota,gas,std,four,hatchback,fwd,front,95.7,158.7,63.6,54.5,2015,ohc,four,92,2bbl,3.05,3.03,9.0,62,4800.0,31,38,6488.0',\n",
       " '0,77,toyota,gas,std,four,wagon,fwd,front,95.7,169.7,63.6,59.1,2280,ohc,four,92,2bbl,3.05,3.03,9.0,62,4800.0,31,37,6918.0',\n",
       " '0,81,toyota,gas,std,four,wagon,4wd,front,95.7,169.7,63.6,59.1,2290,ohc,four,92,2bbl,3.05,3.03,9.0,62,4800.0,27,32,7898.0']"
      ]
     },
     "execution_count": 8,
     "metadata": {},
     "output_type": "execute_result"
    }
   ],
   "source": [
    "toyotaData = autodata.filter(lambda x: 'toyota' in x)\n",
    "toyotaData.take(5)"
   ]
  },
  {
   "cell_type": "code",
   "execution_count": 9,
   "id": "joint-survey",
   "metadata": {},
   "outputs": [
    {
     "data": {
      "text/plain": [
       "32"
      ]
     },
     "execution_count": 9,
     "metadata": {},
     "output_type": "execute_result"
    }
   ],
   "source": [
    "toyotaData.count()"
   ]
  },
  {
   "cell_type": "code",
   "execution_count": 10,
   "id": "fresh-saskatchewan",
   "metadata": {},
   "outputs": [
    {
     "data": {
      "text/plain": [
       "['symboling', 'normalized-losses', 'make', 'fuel-type']"
      ]
     },
     "execution_count": 10,
     "metadata": {},
     "output_type": "execute_result"
    }
   ],
   "source": [
    "words = autodata.flatMap(lambda x: x.split(\",\"))\n",
    "words.take(4)"
   ]
  },
  {
   "cell_type": "code",
   "execution_count": 11,
   "id": "favorite-parks",
   "metadata": {},
   "outputs": [
    {
     "name": "stdout",
     "output_type": "stream",
     "text": [
      "peace\n",
      "world\n",
      "universe\n",
      "hello\n",
      "war\n"
     ]
    }
   ],
   "source": [
    "word1 =sc.parallelize(['hello','war','peace','world'])\n",
    "word2 =sc.parallelize(['war','peace','universe'])\n",
    "\n",
    "for word in word1.union(word2).distinct().collect():\n",
    "    print(word)"
   ]
  },
  {
   "cell_type": "code",
   "execution_count": 12,
   "id": "usual-declaration",
   "metadata": {},
   "outputs": [
    {
     "name": "stdout",
     "output_type": "stream",
     "text": [
      "peace\n",
      "war\n"
     ]
    }
   ],
   "source": [
    "for word in word1.intersection(word2).collect():\n",
    "    print(word)"
   ]
  },
  {
   "cell_type": "code",
   "execution_count": 13,
   "id": "corrected-restriction",
   "metadata": {},
   "outputs": [
    {
     "data": {
      "text/plain": [
       "23"
      ]
     },
     "execution_count": 13,
     "metadata": {},
     "output_type": "execute_result"
    }
   ],
   "source": [
    "# using reduce operation to find sum operating across elements\n",
    "collData.reduce(lambda x,y: x+y)"
   ]
  },
  {
   "cell_type": "code",
   "execution_count": 14,
   "id": "toxic-humanity",
   "metadata": {},
   "outputs": [
    {
     "data": {
      "text/plain": [
       "'0,78,honda,gas,std,four,wagon,fwd,front,96.5,157.1,63.9,58.3,2024,ohc,four,92,1bbl,2.92,3.41,9.2,76,6000.0,30,34,7295.0'"
      ]
     },
     "execution_count": 14,
     "metadata": {},
     "output_type": "execute_result"
    }
   ],
   "source": [
    "# finding the shortest line in the auto data\n",
    "# this clearly require cross element comparision\n",
    "# so we perform a reduce operation\n",
    "autodata.reduce(lambda x,y: x if len(x)<len(y) else y)"
   ]
  },
  {
   "cell_type": "markdown",
   "id": "dressed-cricket",
   "metadata": {},
   "source": [
    "### Aggreagations"
   ]
  },
  {
   "cell_type": "code",
   "execution_count": 15,
   "id": "joined-buffalo",
   "metadata": {},
   "outputs": [
    {
     "data": {
      "text/plain": [
       "23"
      ]
     },
     "execution_count": 15,
     "metadata": {},
     "output_type": "execute_result"
    }
   ],
   "source": [
    "# here this agg perform same operation as reduce but when there are\n",
    "# more the one partition of the rdd SeqOp can be performed in parallel\n",
    "# across the partition and the CombOp would have been performed in sequential\n",
    "# manner with no of sequential opp equal to no. of partitions.\n",
    "seqOp = (lambda x,y: x+y)\n",
    "combOp = (lambda x,y: x+y)\n",
    "\n",
    "collData.aggregate((0),seqOp,combOp)"
   ]
  },
  {
   "cell_type": "code",
   "execution_count": 16,
   "id": "paperback-identity",
   "metadata": {},
   "outputs": [
    {
     "data": {
      "text/plain": [
       "(23, 1680)"
      ]
     },
     "execution_count": 16,
     "metadata": {},
     "output_type": "execute_result"
    }
   ],
   "source": [
    "# performing multiplication and addition at the same time\n",
    "seqOp = (lambda x,y: (x[0]+y,x[1]*y))\n",
    "combOp = (lambda x,y: (x[0]+y[0],x[1]*y[1]))\n",
    "collData.aggregate((0,1),seqOp,combOp)"
   ]
  },
  {
   "cell_type": "markdown",
   "id": "unlike-korean",
   "metadata": {},
   "source": [
    "### Spark Functions"
   ]
  },
  {
   "cell_type": "code",
   "execution_count": 17,
   "id": "loose-stupid",
   "metadata": {},
   "outputs": [
    {
     "data": {
      "text/plain": [
       "['symboling,normalized-losses,make,fuel-type,aspiration,4,body-style,DRIVE-WHEELS,engine-location,wheel-base,length,width,height,curb-weight,engine-type,num-of-cylinders,engine-size,fuel-system,bore,stroke,compression-ratio,horsepower,peak-rpm,city-mpg,highway-mpg,price',\n",
       " '3,122,alfa-romero,gas,std,2,convertible,RWD,front,88.6,168.8,64.1,48.8,2548,dohc,four,130,mpfi,3.47,2.68,9.0,111,5000.0,21,27,13495.0']"
      ]
     },
     "execution_count": 17,
     "metadata": {},
     "output_type": "execute_result"
    }
   ],
   "source": [
    "def cleanseRdd(autoStr):\n",
    "    if isinstance(autoStr,int):\n",
    "        return autoStr\n",
    "    attlist = autoStr.split(\",\")\n",
    "    # convert no of doors from word to a numbers\n",
    "    attlist[5] = '2' if attlist[5] == 'two' else '4'\n",
    "    \n",
    "    # convert drive wheel to upper\n",
    "    attlist[7] = attlist[7].upper()\n",
    "    \n",
    "    return ','.join(attlist)\n",
    "\n",
    "cleanedData = autodata.map(cleanseRdd)\n",
    "cleanedData.take(2)"
   ]
  },
  {
   "cell_type": "code",
   "execution_count": 18,
   "id": "cultural-return",
   "metadata": {},
   "outputs": [
    {
     "data": {
      "text/plain": [
       "25.17910447761194"
      ]
     },
     "execution_count": 18,
     "metadata": {},
     "output_type": "execute_result"
    }
   ],
   "source": [
    "def getMPG(autoStr):\n",
    "    if isinstance(autoStr, int):\n",
    "        return autoStr\n",
    "    \n",
    "    attlist = autoStr.split(\",\")\n",
    "    \n",
    "    if attlist[23].isdigit():\n",
    "        return int(attlist[23])\n",
    "    else:\n",
    "        return 0\n",
    "\n",
    "autodata.reduce(lambda x,y : getMPG(x) + getMPG(y))/(autodata.count() -1)\n"
   ]
  },
  {
   "cell_type": "markdown",
   "id": "prime-cylinder",
   "metadata": {},
   "source": [
    "### Dataset Columns\n",
    "0) symboling\n",
    "1) normalized-losses\n",
    "2) make\n",
    "3) fuel-type\n",
    "4) aspiration\n",
    "5) num-of-doors\n",
    "6) body-style\n",
    "7) drive-wheels\n",
    "8) engine-location\n",
    "9) wheel-base\n",
    "10) length\n",
    "11) width\n",
    "12) height\n",
    "13) curb-weight\n",
    "14) engine-type\n",
    "15) num-of-cylinders\n",
    "16) engine-size\n",
    "17) fuel-system\n",
    "18) bore\n",
    "19) stroke\n",
    "20) compression-ratio\n",
    "21) horsepower\n",
    "22) peak-rpm\n",
    "23) city-mpg\n",
    "24) highway-mpg\n",
    "25) price"
   ]
  },
  {
   "cell_type": "markdown",
   "id": "pediatric-thomas",
   "metadata": {},
   "source": [
    "### Working with (key,value) RDDs"
   ]
  },
  {
   "cell_type": "markdown",
   "id": "nutritional-subcommittee",
   "metadata": {},
   "source": [
    "making a pair RDD with auto brand and horspower"
   ]
  },
  {
   "cell_type": "code",
   "execution_count": 20,
   "id": "better-parcel",
   "metadata": {},
   "outputs": [
    {
     "data": {
      "text/plain": [
       "[('make', 'horsepower'),\n",
       " ('alfa-romero', '111'),\n",
       " ('alfa-romero', '111'),\n",
       " ('alfa-romero', '154'),\n",
       " ('audi', '102')]"
      ]
     },
     "execution_count": 20,
     "metadata": {},
     "output_type": "execute_result"
    }
   ],
   "source": [
    "cylData = autodata.map(lambda x: (x.split(\",\")[2],x.split(\",\")[21]))\n",
    "cylData.take(5)"
   ]
  },
  {
   "cell_type": "code",
   "execution_count": 21,
   "id": "nearby-straight",
   "metadata": {},
   "outputs": [
    {
     "data": {
      "text/plain": [
       "['make', 'alfa-romero', 'alfa-romero', 'alfa-romero', 'audi']"
      ]
     },
     "execution_count": 21,
     "metadata": {},
     "output_type": "execute_result"
    }
   ],
   "source": [
    "cylData.keys().take(5)"
   ]
  },
  {
   "cell_type": "code",
   "execution_count": 22,
   "id": "worthy-bread",
   "metadata": {},
   "outputs": [
    {
     "data": {
      "text/plain": [
       "[('alfa-romero', (376.0, 3)),\n",
       " ('audi', (687.0, 6)),\n",
       " ('bmw', (1111.0, 8)),\n",
       " ('chevrolet', (188.0, 3)),\n",
       " ('dodge', (777.0, 9))]"
      ]
     },
     "execution_count": 22,
     "metadata": {},
     "output_type": "execute_result"
    }
   ],
   "source": [
    "# Removing Header Rows\n",
    "header = cylData.first()\n",
    "cylHpData = cylData.filter(lambda line: line!=header)\n",
    "brandValues  = cylHpData.mapValues(lambda x: (x,1))\n",
    "\n",
    "# Adding count to each record and then reducin to find totals\n",
    "brandValues  = cylHpData.mapValues(lambda x: (x,1)).reduceByKey(lambda x,y: (float(x[0]) + float(y[0]), x[1]+y[1]))\n",
    "brandValues.take(5)"
   ]
  },
  {
   "cell_type": "code",
   "execution_count": 23,
   "id": "optimum-league",
   "metadata": {},
   "outputs": [
    {
     "data": {
      "text/plain": [
       "[('alfa-romero', 125.33333333333333),\n",
       " ('audi', 114.5),\n",
       " ('bmw', 138.875),\n",
       " ('chevrolet', 62.666666666666664),\n",
       " ('dodge', 86.33333333333333),\n",
       " ('honda', 80.23076923076923)]"
      ]
     },
     "execution_count": 23,
     "metadata": {},
     "output_type": "execute_result"
    }
   ],
   "source": [
    "# finding the average horsepower for a particular brand\n",
    "brandValues.mapValues(lambda x: (int(x[0])/int(x[1]))).take(6)"
   ]
  },
  {
   "cell_type": "markdown",
   "id": "hairy-keeping",
   "metadata": {},
   "source": [
    "### Accumulator and Broadcast Variables"
   ]
  },
  {
   "cell_type": "code",
   "execution_count": 26,
   "id": "passive-figure",
   "metadata": {},
   "outputs": [
    {
     "name": "stdout",
     "output_type": "stream",
     "text": [
      "No. of Sedans:  94  No of hatchbacks:  68\n"
     ]
    }
   ],
   "source": [
    "# initialaize Accumulator object\n",
    "sedanCount = sc.accumulator(0)\n",
    "hatchbackCount = sc.accumulator(0)\n",
    "\n",
    "# set the Broadcast Variable\n",
    "sedanText = sc.broadcast(\"sedan\")\n",
    "hatchbackText = sc.broadcast(\"hatchback\")\n",
    "\n",
    "def splitLines(line):\n",
    "    global sedanCount\n",
    "    global hatchbackCount\n",
    "    \n",
    "    # we will use broadcast variable for comparision\n",
    "    # and incrmenent the accumulator accordingly\n",
    "    if sedanText.value in line:\n",
    "        sedanCount += 1\n",
    "    elif hatchbackText.value in line:\n",
    "        hatchbackCount += 1\n",
    "    # not directly related to the accumulation but shows\n",
    "    # that we can also perform side computation\n",
    "    return line.split(\",\")\n",
    "\n",
    "# performing a map\n",
    "splitData = autodata.map(splitLines)\n",
    "\n",
    "# to execute the map (lazy evaluation)\n",
    "splitData.count()\n",
    "print (\"No. of Sedans: \", sedanCount,\" No of hatchbacks: \", hatchbackCount)"
   ]
  },
  {
   "cell_type": "markdown",
   "id": "entertaining-dealer",
   "metadata": {},
   "source": [
    "### Advanced Spark: Partitions"
   ]
  },
  {
   "cell_type": "code",
   "execution_count": 29,
   "id": "least-music",
   "metadata": {},
   "outputs": [
    {
     "data": {
      "text/plain": [
       "1"
      ]
     },
     "execution_count": 29,
     "metadata": {},
     "output_type": "execute_result"
    }
   ],
   "source": [
    "collData.getNumPartitions()"
   ]
  },
  {
   "cell_type": "markdown",
   "id": "auburn-spare",
   "metadata": {},
   "source": [
    "Creating RDD with two partitions"
   ]
  },
  {
   "cell_type": "code",
   "execution_count": 30,
   "id": "frequent-reputation",
   "metadata": {},
   "outputs": [
    {
     "data": {
      "text/plain": [
       "5"
      ]
     },
     "execution_count": 30,
     "metadata": {},
     "output_type": "execute_result"
    }
   ],
   "source": [
    "collData = sc.parallelize([3,5,4,7,4],2)\n",
    "collData.cache()\n",
    "collData.count()"
   ]
  },
  {
   "cell_type": "code",
   "execution_count": 32,
   "id": "affiliated-right",
   "metadata": {},
   "outputs": [
    {
     "data": {
      "text/plain": [
       "2"
      ]
     },
     "execution_count": 32,
     "metadata": {},
     "output_type": "execute_result"
    }
   ],
   "source": [
    "collData.getNumPartitions()"
   ]
  }
 ],
 "metadata": {
  "kernelspec": {
   "display_name": "Python 3",
   "language": "python",
   "name": "python3"
  },
  "language_info": {
   "codemirror_mode": {
    "name": "ipython",
    "version": 3
   },
   "file_extension": ".py",
   "mimetype": "text/x-python",
   "name": "python",
   "nbconvert_exporter": "python",
   "pygments_lexer": "ipython3",
   "version": "3.9.2"
  }
 },
 "nbformat": 4,
 "nbformat_minor": 5
}
