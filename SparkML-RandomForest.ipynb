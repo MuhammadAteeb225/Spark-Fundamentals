{
 "cells": [
  {
   "cell_type": "markdown",
   "id": "intelligent-danger",
   "metadata": {},
   "source": [
    "# Introduction to Spark Random Forest Algorithm"
   ]
  },
  {
   "cell_type": "markdown",
   "id": "private-export",
   "metadata": {},
   "source": [
    "#### Tabnine Extension for intellisense"
   ]
  },
  {
   "cell_type": "code",
   "execution_count": 3,
   "id": "forbidden-upset",
   "metadata": {},
   "outputs": [
    {
     "name": "stdout",
     "output_type": "stream",
     "text": [
      "Enabling notebook extension jupyter_tabnine/main...\n",
      "      - Validating: \u001b[32mOK\u001b[0m\n",
      "Enabling: jupyter_tabnine\n",
      "- Writing config: /home/ateeb/.jupyter\n",
      "    - Validating...\n",
      "      jupyter_tabnine  \u001b[32mOK\u001b[0m\n"
     ]
    }
   ],
   "source": [
    "# !pip install jupyter-tabnine\n",
    "# !jupyter nbextension install --py jupyter_tabnine\n",
    "!jupyter nbextension enable --py jupyter_tabnine\n",
    "!jupyter serverextension enable --py jupyter_tabnine"
   ]
  },
  {
   "cell_type": "markdown",
   "id": "searching-scheme",
   "metadata": {},
   "source": [
    "### Spark Initiallization Script"
   ]
  },
  {
   "cell_type": "code",
   "execution_count": 2,
   "id": "devoted-shield",
   "metadata": {},
   "outputs": [],
   "source": [
    "import os\n",
    "import sys\n",
    "\n",
    "# getting the directory where Spark was installed\n",
    "if 'SPARK_HOME' not in os.environ:\n",
    "    os.environ['SPARK_HOME'] = '/opt/spark'\n",
    "    \n",
    "# python variable to store the root path for later reference\n",
    "SPARK_HOME = os.environ['SPARK_HOME']\n",
    "\n",
    "# adding pyspark and py4j packages paths to python path env variable\n",
    "sys.path.insert(0, os.path.join(SPARK_HOME, \"python\"))\n",
    "sys.path.insert(0, os.path.join(SPARK_HOME, \"python\", \"lib\"))\n",
    "sys.path.insert(0, os.path.join(SPARK_HOME, \"python\", \"lib\", 'py4j-0.10.9-src.zip'))\n",
    "sys.path.insert(0, os.path.join(SPARK_HOME, 'python', 'lib', 'pyspark.zip'))\n",
    "\n",
    "from pyspark import SparkContext\n",
    "from pyspark import SparkConf\n",
    "\n",
    "# creating custom config for spark 1gb ram and 2 cpu cores\n",
    "conf = SparkConf()\n",
    "conf.set('spark.executer.memory', '1g')\n",
    "conf.set('spark.cores.max', '2')\n",
    "\n",
    "# give name to your spark application\n",
    "conf.setAppName(\"RandomForestApp\")\n",
    "\n",
    "# create a spark context object \n",
    "# note: Execute only once otherwise results in Context Errors\n",
    "# create the spark context with 2 threads for streaming purposes\n",
    "sc = SparkContext('local',conf=conf)"
   ]
  },
  {
   "cell_type": "markdown",
   "id": "strategic-monitor",
   "metadata": {},
   "source": [
    "#### Once the above script is executed you can view the Spark instance info here http://localhost:4040"
   ]
  },
  {
   "cell_type": "markdown",
   "id": "racial-album",
   "metadata": {},
   "source": [
    "#### reading csv data into rdd"
   ]
  },
  {
   "cell_type": "code",
   "execution_count": 4,
   "id": "advanced-polyester",
   "metadata": {},
   "outputs": [
    {
     "data": {
      "text/plain": [
       "['\"age\";\"job\";\"marital\";\"education\";\"default\";\"balance\";\"housing\";\"loan\";\"contact\";\"day\";\"month\";\"duration\";\"campaign\";\"pdays\";\"previous\";\"poutcome\";\"y\"',\n",
       " '30;\"unemployed\";\"married\";\"primary\";\"no\";1787;\"no\";\"no\";\"cellular\";19;\"oct\";79;1;-1;0;\"unknown\";\"no\"',\n",
       " '33;\"services\";\"married\";\"secondary\";\"no\";4789;\"yes\";\"yes\";\"cellular\";11;\"may\";220;1;339;4;\"failure\";\"yes\"']"
      ]
     },
     "execution_count": 4,
     "metadata": {},
     "output_type": "execute_result"
    }
   ],
   "source": [
    "# read csv file into an rdd\n",
    "bankData = sc.textFile('data/bank.csv')\n",
    "bankData.cache()\n",
    "bankData.take(3)"
   ]
  },
  {
   "cell_type": "markdown",
   "id": "sophisticated-ability",
   "metadata": {},
   "source": [
    "#### removing header line"
   ]
  },
  {
   "cell_type": "code",
   "execution_count": 6,
   "id": "given-caution",
   "metadata": {},
   "outputs": [
    {
     "data": {
      "text/plain": [
       "541"
      ]
     },
     "execution_count": 6,
     "metadata": {},
     "output_type": "execute_result"
    }
   ],
   "source": [
    "firstLine = bankData.first()\n",
    "dataLines = bankData.filter(lambda x: x!=firstLine)\n",
    "dataLines.count()"
   ]
  },
  {
   "cell_type": "markdown",
   "id": "composed-there",
   "metadata": {},
   "source": [
    "#### Converting RDD to dense vectors and changing labels to numeric"
   ]
  },
  {
   "cell_type": "code",
   "execution_count": 8,
   "id": "proof-company",
   "metadata": {},
   "outputs": [
    {
     "data": {
      "text/plain": [
       "[DenseVector([0.0, 30.0, 0.0, 1.0, 0.0, 1.0, 0.0, 0.0, 0.0, 1787.0, 0.0]),\n",
       " DenseVector([1.0, 33.0, 0.0, 1.0, 0.0, 0.0, 0.0, 0.0, 0.0, 4789.0, 1.0])]"
      ]
     },
     "execution_count": 8,
     "metadata": {},
     "output_type": "execute_result"
    }
   ],
   "source": [
    "import math\n",
    "from pyspark.ml.linalg import Vectors\n",
    "\n",
    "def transformToNumeric(inputStr):\n",
    "    # remove quotation marks from data lines and split \n",
    "    attList = inputStr.replace(\"\\\"\", \"\").split(\";\")\n",
    "    \n",
    "    age = float(attList[0])\n",
    "    \n",
    "    # convert outcome to float\n",
    "    outcome = 0.0 if attList[16]=='no' else 1.0\n",
    "    \n",
    "    # create indicator for single/married\n",
    "    single = 1.0 if attList[2] == \"single\" else 0.0\n",
    "    married = 1.0 if attList[2] == 'married' else 0.0\n",
    "    divorced = 1.0 if attList[2] == 'divorced' else 0.0\n",
    "    \n",
    "    # create indicator variable for education\n",
    "    primary = 1.0 if attList[3] == 'primary' else 0.0\n",
    "    secondry = 1.0 if attList[3] == 'secondry' else 0.0\n",
    "    tertiary = 1.0 if attList[3] == 'tertiary' else 0.0\n",
    "    \n",
    "    # convert default to float\n",
    "    default = 0.0 if attList[4] == 'no' else 1.0\n",
    "    \n",
    "    #convert balance amount to float\n",
    "    balance = float(attList[5])\n",
    "    \n",
    "    #convert loan to float\n",
    "    loan = 0.0 if attList[7]=='no' else 1.0\n",
    "    \n",
    "    #Filter out unwanted columns and create dense vector\n",
    "    values = Vectors.dense([outcome, age, single, married, divorced, primary, secondry, tertiary, default, balance, loan])\n",
    "    \n",
    "    return values\n",
    "\n",
    "#Change to vector\n",
    "bankVectors = dataLines.map(transformToNumeric)\n",
    "bankVectors.take(2)"
   ]
  },
  {
   "cell_type": "markdown",
   "id": "immediate-knight",
   "metadata": {},
   "source": [
    "#### Convert data into Dataframe with label and features for analysis"
   ]
  },
  {
   "cell_type": "code",
   "execution_count": 9,
   "id": "liked-recognition",
   "metadata": {},
   "outputs": [
    {
     "data": {
      "text/plain": [
       "[(0.0, DenseVector([30.0, 0.0, 1.0, 0.0, 1.0, 0.0, 0.0, 0.0, 1787.0, 0.0])),\n",
       " (1.0, DenseVector([33.0, 0.0, 1.0, 0.0, 0.0, 0.0, 0.0, 0.0, 4789.0, 1.0]))]"
      ]
     },
     "execution_count": 9,
     "metadata": {},
     "output_type": "execute_result"
    }
   ],
   "source": [
    "from pyspark.sql import SQLContext\n",
    "sqlContext = SQLContext(sc)\n",
    "\n",
    "def transformToLabelPoint(inStr):\n",
    "    return (float(inStr[0]), \n",
    "            Vectors.dense([\n",
    "                inStr[1],inStr[2],inStr[3],inStr[4],\n",
    "                inStr[5],inStr[6], inStr[7],inStr[8],\n",
    "                inStr[9], inStr[10]\n",
    "            ])\n",
    "           )\n",
    "bankLp = bankVectors.map(transformToLabelPoint)\n",
    "bankLp.take(2)          "
   ]
  },
  {
   "cell_type": "code",
   "execution_count": 11,
   "id": "british-richmond",
   "metadata": {},
   "outputs": [
    {
     "name": "stdout",
     "output_type": "stream",
     "text": [
      "+-----+--------------------+\n",
      "|label|            features|\n",
      "+-----+--------------------+\n",
      "|  0.0|[30.0,0.0,1.0,0.0...|\n",
      "|  1.0|[33.0,0.0,1.0,0.0...|\n",
      "|  1.0|[35.0,1.0,0.0,0.0...|\n",
      "|  1.0|[30.0,0.0,1.0,0.0...|\n",
      "|  0.0|[59.0,0.0,1.0,0.0...|\n",
      "|  1.0|[35.0,1.0,0.0,0.0...|\n",
      "|  1.0|[36.0,0.0,1.0,0.0...|\n",
      "|  0.0|[39.0,0.0,1.0,0.0...|\n",
      "|  0.0|[41.0,0.0,1.0,0.0...|\n",
      "|  1.0|[43.0,0.0,1.0,0.0...|\n",
      "+-----+--------------------+\n",
      "only showing top 10 rows\n",
      "\n"
     ]
    }
   ],
   "source": [
    "bankDF = sqlContext.createDataFrame(bankLp,['label','features'])\n",
    "bankDF.show(10)"
   ]
  },
  {
   "cell_type": "markdown",
   "id": "effective-dollar",
   "metadata": {},
   "source": [
    "#### Perform Principal Component Analysis"
   ]
  },
  {
   "cell_type": "code",
   "execution_count": 15,
   "id": "communist-football",
   "metadata": {},
   "outputs": [
    {
     "name": "stdout",
     "output_type": "stream",
     "text": [
      "+-----+-------------------------------------------------------------+\n",
      "|label|pcaFeatures                                                  |\n",
      "+-----+-------------------------------------------------------------+\n",
      "|0.0  |[-1787.0188972402566,28.862493618682592,-0.27105149625042446]|\n",
      "|1.0  |[-4789.020184182034,29.927929724171516,-0.2442456641141761]  |\n",
      "|1.0  |[-1350.022213195645,34.10154745848408,1.3242759453483874]    |\n",
      "|1.0  |[-1476.018951753866,29.051719386627397,-0.16259922035163182] |\n",
      "|0.0  |[-0.03789611394222689,58.9952650770054,0.34110916402266667]  |\n",
      "+-----+-------------------------------------------------------------+\n",
      "only showing top 5 rows\n",
      "\n"
     ]
    }
   ],
   "source": [
    "from pyspark.ml.feature import PCA\n",
    "\n",
    "bankPCA = PCA(k=3,inputCol='features', outputCol='pcaFeatures')\n",
    "\n",
    "pcaModel = bankPCA.fit(bankDF)\n",
    "pcaResult = pcaModel.transform(bankDF).select ('label','pcaFeatures')\n",
    "pcaResult.show(5,truncate=False)"
   ]
  },
  {
   "cell_type": "markdown",
   "id": "hydraulic-nature",
   "metadata": {},
   "source": [
    "#### Indexing data as per-requirement"
   ]
  },
  {
   "cell_type": "code",
   "execution_count": 17,
   "id": "settled-navigation",
   "metadata": {},
   "outputs": [
    {
     "name": "stdout",
     "output_type": "stream",
     "text": [
      "+-----+-------------------------------------------------------------+-------+\n",
      "|label|pcaFeatures                                                  |indexed|\n",
      "+-----+-------------------------------------------------------------+-------+\n",
      "|0.0  |[-1787.0188972402566,28.862493618682592,-0.27105149625042446]|0.0    |\n",
      "|1.0  |[-4789.020184182034,29.927929724171516,-0.2442456641141761]  |1.0    |\n",
      "|1.0  |[-1350.022213195645,34.10154745848408,1.3242759453483874]    |1.0    |\n",
      "|1.0  |[-1476.018951753866,29.051719386627397,-0.16259922035163182] |1.0    |\n",
      "|0.0  |[-0.03789611394222689,58.9952650770054,0.34110916402266667]  |0.0    |\n",
      "+-----+-------------------------------------------------------------+-------+\n",
      "only showing top 5 rows\n",
      "\n"
     ]
    }
   ],
   "source": [
    "from pyspark.ml.feature import StringIndexer\n",
    "stringIndexer = StringIndexer(inputCol =\"label\", outputCol='indexed')\n",
    "si_model = stringIndexer.fit(pcaResult)\n",
    "td = si_model.transform(pcaResult)\n",
    "td.show(5, truncate=False)"
   ]
  },
  {
   "cell_type": "markdown",
   "id": "applied-exemption",
   "metadata": {},
   "source": [
    "#### Splitting data into training and subsets"
   ]
  },
  {
   "cell_type": "code",
   "execution_count": 19,
   "id": "painful-status",
   "metadata": {},
   "outputs": [
    {
     "name": "stdout",
     "output_type": "stream",
     "text": [
      "trianing Row Count:  375 test Row Count:  166\n"
     ]
    }
   ],
   "source": [
    "trainingData, testData = td.randomSplit([0.7,0.3])\n",
    "\n",
    "print(\"trianing Row Count: \", trainingData.count(),\"test Row Count: \", testData.count())"
   ]
  },
  {
   "cell_type": "markdown",
   "id": "prerequisite-burns",
   "metadata": {},
   "source": [
    "#### Creating Random Forest Classifier"
   ]
  },
  {
   "cell_type": "code",
   "execution_count": 20,
   "id": "intermediate-delta",
   "metadata": {},
   "outputs": [
    {
     "name": "stdout",
     "output_type": "stream",
     "text": [
      "+----------+-------+-----+-------------------------------------------------------------+\n",
      "|prediction|indexed|label|pcaFeatures                                                  |\n",
      "+----------+-------+-----+-------------------------------------------------------------+\n",
      "|0.0       |0.0    |0.0  |[-14093.033699696094,47.947126111914436,0.0903606443655938]  |\n",
      "|0.0       |0.0    |0.0  |[-12186.027028044504,38.174585634959755,-0.08941010167841718]|\n",
      "|0.0       |0.0    |0.0  |[-9374.023112704537,32.98201569967229,-0.17967045236880375]  |\n",
      "|0.0       |0.0    |0.0  |[-8969.023848784527,34.23756359220832,-0.06609599928765825]  |\n",
      "|0.0       |0.0    |0.0  |[-7190.025503592384,37.373990895859336,0.9613194767414225]   |\n",
      "|0.0       |0.0    |0.0  |[-5799.035411296781,53.27906641078873,0.18030419337684683]   |\n",
      "|1.0       |0.0    |0.0  |[-4943.020796609097,30.79945070089049,1.1425067501080945]    |\n",
      "|0.0       |0.0    |0.0  |[-4380.033137168154,50.1846531638563,0.16119899669617513]    |\n",
      "|0.0       |0.0    |0.0  |[-4286.021604676483,32.245755000134814,-0.09017953819405188] |\n",
      "|0.0       |0.0    |0.0  |[-3872.0255442074945,38.509917915708705,0.02983769888987431] |\n",
      "+----------+-------+-----+-------------------------------------------------------------+\n",
      "only showing top 10 rows\n",
      "\n"
     ]
    }
   ],
   "source": [
    "from pyspark.ml.classification import RandomForestClassifier\n",
    "from pyspark.ml.evaluation import MulticlassClassificationEvaluator\n",
    "\n",
    "# Create the model\n",
    "rmClassifier = RandomForestClassifier(labelCol = 'indexed', featuresCol='pcaFeatures')\n",
    "rmModel = rmClassifier.fit(trainingData)\n",
    "\n",
    "# prediction on test data\n",
    "predictions = rmModel.transform(testData)\n",
    "\n",
    "predictions.select(\"prediction\", \"indexed\", \"label\", \"pcaFeatures\").show(10, truncate=False)"
   ]
  },
  {
   "cell_type": "code",
   "execution_count": 21,
   "id": "textile-reason",
   "metadata": {},
   "outputs": [],
   "source": [
    "#### evaluating the model performance"
   ]
  },
  {
   "cell_type": "code",
   "execution_count": 25,
   "id": "communist-cartridge",
   "metadata": {},
   "outputs": [
    {
     "data": {
      "text/plain": [
       "0.6866648178391315"
      ]
     },
     "execution_count": 25,
     "metadata": {},
     "output_type": "execute_result"
    }
   ],
   "source": [
    "evaluator = MulticlassClassificationEvaluator(labelCol='indexed', \n",
    "                                              predictionCol='prediction',\n",
    "                                              metricName='weightedPrecision'\n",
    "                                             )\n",
    "evaluator.evaluate(predictions)"
   ]
  },
  {
   "cell_type": "markdown",
   "id": "synthetic-audio",
   "metadata": {},
   "source": [
    "#### Confusion Matrix"
   ]
  },
  {
   "cell_type": "code",
   "execution_count": 27,
   "id": "contained-casting",
   "metadata": {},
   "outputs": [
    {
     "name": "stdout",
     "output_type": "stream",
     "text": [
      "+-------+----------+-----+\n",
      "|indexed|prediction|count|\n",
      "+-------+----------+-----+\n",
      "|    1.0|       1.0|   35|\n",
      "|    0.0|       1.0|   16|\n",
      "|    1.0|       0.0|   36|\n",
      "|    0.0|       0.0|   79|\n",
      "+-------+----------+-----+\n",
      "\n"
     ]
    }
   ],
   "source": [
    "predictions.groupBy(\"indexed\",\"prediction\").count().show()"
   ]
  },
  {
   "cell_type": "code",
   "execution_count": 28,
   "id": "pending-number",
   "metadata": {},
   "outputs": [
    {
     "data": {
      "text/html": [
       "<div>\n",
       "<style scoped>\n",
       "    .dataframe tbody tr th:only-of-type {\n",
       "        vertical-align: middle;\n",
       "    }\n",
       "\n",
       "    .dataframe tbody tr th {\n",
       "        vertical-align: top;\n",
       "    }\n",
       "\n",
       "    .dataframe thead th {\n",
       "        text-align: right;\n",
       "    }\n",
       "</style>\n",
       "<table border=\"1\" class=\"dataframe\">\n",
       "  <thead>\n",
       "    <tr style=\"text-align: right;\">\n",
       "      <th></th>\n",
       "      <th>indexed</th>\n",
       "      <th>prediction</th>\n",
       "    </tr>\n",
       "  </thead>\n",
       "  <tbody>\n",
       "    <tr>\n",
       "      <th>0</th>\n",
       "      <td>1.0</td>\n",
       "      <td>1.0</td>\n",
       "    </tr>\n",
       "    <tr>\n",
       "      <th>1</th>\n",
       "      <td>0.0</td>\n",
       "      <td>1.0</td>\n",
       "    </tr>\n",
       "    <tr>\n",
       "      <th>2</th>\n",
       "      <td>1.0</td>\n",
       "      <td>0.0</td>\n",
       "    </tr>\n",
       "    <tr>\n",
       "      <th>3</th>\n",
       "      <td>0.0</td>\n",
       "      <td>0.0</td>\n",
       "    </tr>\n",
       "  </tbody>\n",
       "</table>\n",
       "</div>"
      ],
      "text/plain": [
       "   indexed  prediction\n",
       "0      1.0         1.0\n",
       "1      0.0         1.0\n",
       "2      1.0         0.0\n",
       "3      0.0         0.0"
      ]
     },
     "execution_count": 28,
     "metadata": {},
     "output_type": "execute_result"
    }
   ],
   "source": [
    "import pandas as pd\n",
    "labelList = predictions.select('indexed','prediction').distinct().toPandas()\n",
    "labelList.head()"
   ]
  },
  {
   "cell_type": "code",
   "execution_count": null,
   "id": "conventional-representative",
   "metadata": {},
   "outputs": [],
   "source": []
  }
 ],
 "metadata": {
  "kernelspec": {
   "display_name": "Python 3",
   "language": "python",
   "name": "python3"
  },
  "language_info": {
   "codemirror_mode": {
    "name": "ipython",
    "version": 3
   },
   "file_extension": ".py",
   "mimetype": "text/x-python",
   "name": "python",
   "nbconvert_exporter": "python",
   "pygments_lexer": "ipython3",
   "version": "3.9.2"
  }
 },
 "nbformat": 4,
 "nbformat_minor": 5
}
